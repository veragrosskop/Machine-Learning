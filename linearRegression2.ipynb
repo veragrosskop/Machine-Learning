{
 "cells": [
  {
   "cell_type": "code",
   "execution_count": 3,
   "metadata": {
    "collapsed": false
   },
   "outputs": [
    {
     "name": "stdout",
     "output_type": "stream",
     "text": [
      "Populating the interactive namespace from numpy and matplotlib\n"
     ]
    }
   ],
   "source": [
    "%pylab inline \n",
    "import numpy as np"
   ]
  },
  {
   "cell_type": "markdown",
   "metadata": {},
   "source": [
    "## Univariate Linear Regression"
   ]
  },
  {
   "cell_type": "markdown",
   "metadata": {},
   "source": [
    "In the previous assignment you implemented the cost function and one step of gradient descent. Now it's time to put your code together and implement to full gradient descent algorithm. Please reuse the implementations of your functions from the previous assignment, but make sure they are correct. \n",
    "\n",
    "Make sure to comment your code!"
   ]
  },
  {
   "cell_type": "code",
   "execution_count": 8,
   "metadata": {
    "collapsed": false
   },
   "outputs": [
    {
     "data": {
      "image/png": "[encoded data removed]",
      "text/plain": [
       "<matplotlib.figure.Figure at 0x10f513ac8>"
      ]
     },
     "metadata": {},
     "output_type": "display_data"
    }
   ],
   "source": [
    "#data from last assignment\n",
    "m = 100;\n",
    "a = 0.5\n",
    "b = 2\n",
    "x = linspace(0,10,m)\n",
    "y = a * x + b + 0.3 * random.randn(m)\n",
    "plot(x, y, 'r+');"
   ]
  },
  {
   "cell_type": "code",
   "execution_count": 9,
   "metadata": {
    "collapsed": false
   },
   "outputs": [],
   "source": [
    "#Make a prediction function h\n",
    "def predict(x,theta0,theta1):\n",
    "    x_predict = theta0 + theta1*x \n",
    "    return x_predict"
   ]
  },
  {
   "cell_type": "code",
   "execution_count": 21,
   "metadata": {
    "collapsed": false
   },
   "outputs": [],
   "source": [
    "#Use the output of that function to compute the cost function J:\n",
    "def cost(x_predict,y):\n",
    "    J = (x_predict - y)**2\n",
    "    J = sum(J)/(2*size(x_predict))\n",
    "    return J"
   ]
  },
  {
   "cell_type": "code",
   "execution_count": 22,
   "metadata": {
    "collapsed": false
   },
   "outputs": [],
   "source": [
    "#Create a function that returns the gradient values, given h (x_predict), y and x:\n",
    "def gradDescentStep(x_predict,y, x):\n",
    "    dtheta0 = mean(x_predict - y)\n",
    "    dtheta1 = (1/size(x))*dot((x_predict-y),x)\n",
    "    return (dtheta0, dtheta1)\n"
   ]
  },
  {
   "cell_type": "code",
   "execution_count": 51,
   "metadata": {
    "collapsed": false
   },
   "outputs": [
    {
     "data": {
      "image/png": "[encoded data removed]",
      "text/plain": [
       "<matplotlib.figure.Figure at 0x11b4317b8>"
      ]
     },
     "metadata": {},
     "output_type": "display_data"
    }
   ],
   "source": [
    "# Repeat the gradient descent step untill it converges.\n",
    "# These are some default parameters, see how playing with them affects the behavior\n",
    "\n",
    "#after testing various values for alpha and iterations, \n",
    "#these were picked.\n",
    "\n",
    "alpha = 0.005\n",
    "theta0 = 0\n",
    "theta1 = 1\n",
    "iterations = 1200\n",
    "\n",
    "\n",
    "#Fill in the stopcondition yourself\n",
    "stopcondition = 0\n",
    "\n",
    "i = 0\n",
    "J = 10\n",
    "#Try to save the output of the cost function at each iteration and plot it at the end\n",
    "while (i < iterations) and (J > stopcondition):\n",
    "    i = i + 1\n",
    "    x_predict = predict(x, theta0, theta1) #hypothesis function\n",
    "    J = cost(x_predict, y) #cost function\n",
    "    (dtheta0,dtheta1) = gradDescentStep(x_predict, y, x) #gradient descent \n",
    "    theta0 = theta0 - alpha*dtheta0 #updates theta0\n",
    "    theta1 = theta1 - alpha*dtheta1 #updates theta1\n",
    "    \n",
    "plt.plot(x, predict(x,theta0,theta1))\n",
    "plt.plot(x,y,'o')\n",
    "plt.show()\n",
    "\n",
    "\n",
    "#test optimal iterations\n",
    "#values from 100-2000 were tested, \n",
    "#the cost kept reducing increasingly after 100, so the best fit was chosen.\n",
    "\n",
    "#initialize variables\n",
    "#theta02 = 0 \n",
    "#theta12 = 1\n",
    "#iterations2 = 1000\n",
    "#storecost = np.zeros(iterations2)\n",
    "#for iter in range(iterations2):\n",
    "#    x_predict2 = predict(x, theta02, theta12) #hypothesis function\n",
    "#    J2 = cost(x_predict2, y) #cost function\n",
    "#    storecost[iter] = J2\n",
    "#    (dtheta02,dtheta12) = gradDescentStep(x_predict2, y, x) #gradient descent \n",
    "#    theta02 = theta02 - alpha*dtheta02 #updates theta02\n",
    "#    theta12 = theta12 - alpha*dtheta12 #updates theta12\n",
    "\n",
    "#    plt.plot(storecost,'o')\n",
    "    "
   ]
  },
  {
   "cell_type": "markdown",
   "metadata": {},
   "source": [
    "## Analysis\n",
    "\n",
    "Write a short analysis about the amount of iterations necessary to obtain a good result, the influence of the learning rate and the trend of the cost function. "
   ]
  },
  {
   "cell_type": "markdown",
   "metadata": {},
   "source": [
    "# Bonus Problem: Implement Least Squares with closed form solution\n",
    "\n",
    "For the Least Squares method there is also a closed-form solution.\n",
    "\n",
    "$\\theta_1$ can be found by:\n",
    "$$ \\boldsymbol{\\hat\\theta_1} =( X ^TX)^{-1}X^{T}\\boldsymbol y $$\n",
    "\n",
    "You can leave $\\theta_0$ to be 0. Make a plot with your data as dots and your prediction as a line."
   ]
  }
 ],
 "metadata": {
  "kernelspec": {
   "display_name": "Python 3",
   "language": "python",
   "name": "python3"
  },
  "language_info": {
   "codemirror_mode": {
    "name": "ipython",
    "version": 3
   },
   "file_extension": ".py",
   "mimetype": "text/x-python",
   "name": "python",
   "nbconvert_exporter": "python",
   "pygments_lexer": "ipython3",
   "version": "3.6.0"
  }
 },
 "nbformat": 4,
 "nbformat_minor": 0
}
