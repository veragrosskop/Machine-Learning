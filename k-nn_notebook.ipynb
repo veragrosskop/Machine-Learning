{
 "cells": [
  {
   "cell_type": "markdown",
   "metadata": {},
   "source": [
    "# AUC ML LabExercise: k - Nearest Neighbours \n",
    "Ungraded exercise, deadline Thursday 9 November, 23:59.\n"
   ]
  },
  {
   "cell_type": "code",
   "execution_count": 1,
   "metadata": {
    "collapsed": false
   },
   "outputs": [
    {
     "name": "stdout",
     "output_type": "stream",
     "text": [
      "Populating the interactive namespace from numpy and matplotlib\n"
     ]
    }
   ],
   "source": [
    "%pylab inline"
   ]
  },
  {
   "cell_type": "markdown",
   "metadata": {},
   "source": [
    "In this notebook you will implement the k-Nearest Neighbour classifier.\n",
    "\n",
    "The step-wise recipe for k-nn:\n",
    "\n",
    "(1) Handle Data: Open the dataset from CSV and split into test/train datasets.\n",
    "\n",
    "(2) Similarity: Calculate the distance between two data instances.\n",
    "\n",
    "(3) Neighbors: Locate k most similar data instances.\n",
    "\n",
    "(4) Majority vote: Get the neighbours to vote on the class of the test points.\n",
    "\n",
    "(5) Accuracy: Summarize the accuracy of predictions.\n",
    "\n",
    "\n",
    "We provide the main function that brings all the steps together and your task is to implement the missing functions.\n"
   ]
  },
  {
   "cell_type": "code",
   "execution_count": 57,
   "metadata": {
    "collapsed": false
   },
   "outputs": [
    {
     "name": "stdout",
     "output_type": "stream",
     "text": [
      "Classifying test instance number 0:\n"
     ]
    },
    {
     "ename": "UnboundLocalError",
     "evalue": "local variable 'dist_array' referenced before assignment",
     "output_type": "error",
     "traceback": [
      "\u001b[0;31m---------------------------------------------------------------------------\u001b[0m",
      "\u001b[0;31mUnboundLocalError\u001b[0m                         Traceback (most recent call last)",
      "\u001b[0;32m<ipython-input-57-8d1ee84913cd>\u001b[0m in \u001b[0;36m<module>\u001b[0;34m()\u001b[0m\n\u001b[1;32m     76\u001b[0m     \u001b[0;31m#        Implement this using cross-validation.\u001b[0m\u001b[0;34m\u001b[0m\u001b[0;34m\u001b[0m\u001b[0m\n\u001b[1;32m     77\u001b[0m \u001b[0;34m\u001b[0m\u001b[0m\n\u001b[0;32m---> 78\u001b[0;31m \u001b[0mmain\u001b[0m\u001b[0;34m(\u001b[0m\u001b[0;34m)\u001b[0m\u001b[0;34m\u001b[0m\u001b[0m\n\u001b[0m\u001b[1;32m     79\u001b[0m \u001b[0;34m\u001b[0m\u001b[0m\n",
      "\u001b[0;32m<ipython-input-57-8d1ee84913cd>\u001b[0m in \u001b[0;36mmain\u001b[0;34m()\u001b[0m\n\u001b[1;32m     56\u001b[0m \u001b[0;34m\u001b[0m\u001b[0m\n\u001b[1;32m     57\u001b[0m             \u001b[0mprint\u001b[0m\u001b[0;34m(\u001b[0m\u001b[0;34m'Classifying test instance number '\u001b[0m \u001b[0;34m+\u001b[0m \u001b[0mstr\u001b[0m\u001b[0;34m(\u001b[0m\u001b[0mx\u001b[0m\u001b[0;34m)\u001b[0m \u001b[0;34m+\u001b[0m \u001b[0;34m\":\"\u001b[0m\u001b[0;34m)\u001b[0m\u001b[0;34m\u001b[0m\u001b[0m\n\u001b[0;32m---> 58\u001b[0;31m             \u001b[0mneighbours\u001b[0m \u001b[0;34m=\u001b[0m \u001b[0mget_neighbours\u001b[0m\u001b[0;34m(\u001b[0m\u001b[0mX_train\u001b[0m\u001b[0;34m,\u001b[0m \u001b[0mX_test\u001b[0m\u001b[0;34m[\u001b[0m\u001b[0mx\u001b[0m\u001b[0;34m]\u001b[0m\u001b[0;34m,\u001b[0m \u001b[0mk\u001b[0m\u001b[0;34m)\u001b[0m\u001b[0;34m\u001b[0m\u001b[0m\n\u001b[0m\u001b[1;32m     59\u001b[0m             \u001b[0mmajority_vote\u001b[0m \u001b[0;34m=\u001b[0m \u001b[0mget_majority_vote\u001b[0m\u001b[0;34m(\u001b[0m\u001b[0mneighbours\u001b[0m\u001b[0;34m,\u001b[0m \u001b[0my_train\u001b[0m\u001b[0;34m)\u001b[0m\u001b[0;34m\u001b[0m\u001b[0m\n\u001b[1;32m     60\u001b[0m             \u001b[0mpredictions\u001b[0m\u001b[0;34m.\u001b[0m\u001b[0mappend\u001b[0m\u001b[0;34m(\u001b[0m\u001b[0mmajority_vote\u001b[0m\u001b[0;34m)\u001b[0m\u001b[0;34m\u001b[0m\u001b[0m\n",
      "\u001b[0;32m<ipython-input-57-8d1ee84913cd>\u001b[0m in \u001b[0;36mget_neighbours\u001b[0;34m(training_set, test_instance, k)\u001b[0m\n\u001b[1;32m     21\u001b[0m         \u001b[0mdist\u001b[0m \u001b[0;34m=\u001b[0m \u001b[0mdistance\u001b[0m\u001b[0;34m.\u001b[0m\u001b[0meuclidean\u001b[0m\u001b[0;34m(\u001b[0m\u001b[0mi\u001b[0m\u001b[0;34m,\u001b[0m \u001b[0mtest_instance\u001b[0m\u001b[0;34m)\u001b[0m\u001b[0;34m\u001b[0m\u001b[0m\n\u001b[1;32m     22\u001b[0m         \u001b[0mdistances\u001b[0m\u001b[0;34m.\u001b[0m\u001b[0mappend\u001b[0m\u001b[0;34m(\u001b[0m\u001b[0mdist\u001b[0m\u001b[0;34m)\u001b[0m\u001b[0;34m\u001b[0m\u001b[0m\n\u001b[0;32m---> 23\u001b[0;31m     \u001b[0mdist_array\u001b[0m \u001b[0;34m=\u001b[0m \u001b[0mnp\u001b[0m\u001b[0;34m.\u001b[0m\u001b[0masarray\u001b[0m\u001b[0;34m(\u001b[0m\u001b[0mdist_array\u001b[0m\u001b[0;34m)\u001b[0m\u001b[0;34m\u001b[0m\u001b[0m\n\u001b[0m\u001b[1;32m     24\u001b[0m     \u001b[0mneighbours\u001b[0m \u001b[0;34m=\u001b[0m \u001b[0mnp\u001b[0m\u001b[0;34m.\u001b[0m\u001b[0margpartition\u001b[0m\u001b[0;34m(\u001b[0m\u001b[0mdistances_array\u001b[0m\u001b[0;34m,\u001b[0m \u001b[0mk\u001b[0m\u001b[0;34m)\u001b[0m\u001b[0;34m\u001b[0m\u001b[0m\n\u001b[1;32m     25\u001b[0m     \u001b[0mprint\u001b[0m\u001b[0;34m(\u001b[0m\u001b[0mneighbours\u001b[0m\u001b[0;34m)\u001b[0m\u001b[0;34m\u001b[0m\u001b[0m\n",
      "\u001b[0;31mUnboundLocalError\u001b[0m: local variable 'dist_array' referenced before assignment"
     ]
    }
   ],
   "source": [
    "#In this notebook we will work with the Iris dataset again\n",
    "#First we import all the modules that you need for this exrecise\n",
    "from sklearn import datasets # to load the dataset\n",
    "from sklearn.model_selection import train_test_split #to split in train and test set\n",
    "from sklearn.model_selection import cross_val_score #BONUS\n",
    "from sklearn.metrics import classification_report, accuracy_score # for reporting\n",
    "from scipy.spatial import distance #to calculate the Euclidean distance\n",
    "from collections import Counter #to count unique occurances of items in array, for majority voting\n",
    "import numpy as np\n",
    "\n",
    "\n",
    "# Missing function  1) given a training set and a test instance use \n",
    "# the euclidian distance function to calculate all pairwise distances.\n",
    "# Return a list with indexes of k nearest neighbours for a given test instance.\n",
    "def get_neighbours(training_set, test_instance, k):\n",
    "    # Calculate distances from test_instance to all training points, use the euclidean() function.\n",
    "    # Remember to save not only distances but also the index of the training example,\n",
    "    # so that when you want to choose k closest ones, you actually know which examples those are.   \n",
    "    distances=[]\n",
    "    for i in training_set:\n",
    "        dist = distance.euclidean(i, test_instance)\n",
    "        distances.append(dist)  \n",
    "    dist_array = np.asarray(dist_array)\n",
    "    neighbours = np.argpartition(distances_array, k)\n",
    "    print(neighbours)    \n",
    "    \n",
    "# Missing function 2) given an array of nearest neighbours indices, \n",
    "# tally up their classes to vote on test case class. \n",
    "# Retun the label of most common class.\n",
    "def get_majority_vote(neighbours, training_labels):\n",
    "    # You can use the Counter() function to count unique occurances of items in array. \n",
    "    # And also a method of Counter(), to take a most common one. \n",
    "    classes =[]\n",
    "    for neighbour in neighbours:\n",
    "        neighbour_labels = training_labels[neighbour]\n",
    "        classes.append(neighbour_labels)\n",
    "    c = Counter(classes)\n",
    "    common_class = c.most_common(1)\n",
    "    print(common_class)\n",
    "        \n",
    "# setting up main executable method\n",
    "def main():\n",
    " \n",
    "    # load the data and create the training and test sets\n",
    "    iris = datasets.load_iris()\n",
    "    X_train, X_test, y_train, y_test = train_test_split(iris.data, iris.target, test_size=0.4) \n",
    "\n",
    "    # generate predictions\n",
    "    predictions = []\n",
    " \n",
    "    # let's arbitrarily set k equal to 3, see BONUS question\n",
    "    k = 3   \n",
    "    \n",
    "    # for each instance in the test set, get nearest neighbours and majority vote on predicted class\n",
    "    for x in range(len(X_test)):\n",
    " \n",
    "            print('Classifying test instance number ' + str(x) + \":\")\n",
    "            neighbours = get_neighbours(X_train, X_test[x], k)\n",
    "            majority_vote = get_majority_vote(neighbours, y_train)\n",
    "            predictions.append(majority_vote)\n",
    "            print('Predicted label=' + str(majority_vote) + ', Actual label=' + str(y_test[x]))\n",
    " \n",
    "    # summarize performance of the classification\n",
    "    print('\\nThe overall accuracy of the model is: ' + str(accuracy_score(y_test, predictions)) + \"\\n\")\n",
    "    \n",
    "    #BONUS: study function classification_report to find out how to produce \n",
    "    #       a detailes classification report\n",
    "    #       report = classification_report(...)\n",
    "    #       print('A detailed classification report: \\n\\n' + report)\n",
    "    \n",
    "    \n",
    "    # BONUS: in this implementation we arbitrarily chose k=3. \n",
    "    #        We could have chosen other values, which would influence accuracy. \n",
    "    #        Ideally, k would be optimized by seeing which value \n",
    "    #        produces the most accurate predictions. \n",
    "    #        Implement this using cross-validation. \n",
    "\n",
    "main()\n",
    "\n"
   ]
  },
  {
   "cell_type": "code",
   "execution_count": 43,
   "metadata": {
    "collapsed": false
   },
   "outputs": [
    {
     "name": "stdout",
     "output_type": "stream",
     "text": [
      "Counter({1: 3, 2: 2, 3: 1})\n",
      "1\n"
     ]
    }
   ],
   "source": [
    "from collections import Counter #to count unique occurances of items in array, for majority voting\n",
    "c = Counter([1,2,1,1,3,2])\n",
    "print(c)\n",
    "#for number, count in c.most_common(2):\n",
    "c2 = (c.most_common(2))\n",
    "print(c2[0][0])\n",
    "\n"
   ]
  },
  {
   "cell_type": "code",
   "execution_count": 48,
   "metadata": {
    "collapsed": false
   },
   "outputs": [
    {
     "ename": "TypeError",
     "evalue": "list indices must be integers or slices, not list",
     "output_type": "error",
     "traceback": [
      "\u001b[0;31m---------------------------------------------------------------------------\u001b[0m",
      "\u001b[0;31mTypeError\u001b[0m                                 Traceback (most recent call last)",
      "\u001b[0;32m<ipython-input-48-06598f3b18ed>\u001b[0m in \u001b[0;36m<module>\u001b[0;34m()\u001b[0m\n\u001b[1;32m      1\u001b[0m \u001b[0mA\u001b[0m \u001b[0;34m=\u001b[0m\u001b[0;34m[\u001b[0m\u001b[0;36m1\u001b[0m\u001b[0;34m,\u001b[0m \u001b[0;36m5\u001b[0m \u001b[0;34m,\u001b[0m\u001b[0;36m4\u001b[0m\u001b[0;34m,\u001b[0m  \u001b[0;36m6\u001b[0m\u001b[0;34m,\u001b[0m \u001b[0;36m7\u001b[0m\u001b[0;34m,\u001b[0m \u001b[0;36m8\u001b[0m\u001b[0;34m,\u001b[0m \u001b[0;36m8\u001b[0m\u001b[0;34m]\u001b[0m\u001b[0;34m\u001b[0m\u001b[0m\n\u001b[1;32m      2\u001b[0m \u001b[0mB\u001b[0m \u001b[0;34m=\u001b[0m \u001b[0;34m[\u001b[0m\u001b[0;36m0\u001b[0m\u001b[0;34m,\u001b[0m\u001b[0;36m1\u001b[0m\u001b[0;34m,\u001b[0m\u001b[0;36m2\u001b[0m\u001b[0;34m]\u001b[0m\u001b[0;34m\u001b[0m\u001b[0m\n\u001b[0;32m----> 3\u001b[0;31m \u001b[0mprint\u001b[0m\u001b[0;34m(\u001b[0m\u001b[0mA\u001b[0m\u001b[0;34m[\u001b[0m\u001b[0mB\u001b[0m\u001b[0;34m]\u001b[0m\u001b[0;34m)\u001b[0m\u001b[0;34m\u001b[0m\u001b[0m\n\u001b[0m",
      "\u001b[0;31mTypeError\u001b[0m: list indices must be integers or slices, not list"
     ]
    }
   ],
   "source": [
    "A =[1, 5 ,4,  6, 7, 8, 8]\n",
    "B = [0,1,2]\n",
    "print(A[B])"
   ]
  },
  {
   "cell_type": "code",
   "execution_count": null,
   "metadata": {
    "collapsed": true
   },
   "outputs": [],
   "source": []
  }
 ],
 "metadata": {
  "kernelspec": {
   "display_name": "Python 3",
   "language": "python",
   "name": "python3"
  },
  "language_info": {
   "codemirror_mode": {
    "name": "ipython",
    "version": 3
   },
   "file_extension": ".py",
   "mimetype": "text/x-python",
   "name": "python",
   "nbconvert_exporter": "python",
   "pygments_lexer": "ipython3",
   "version": "3.6.0"
  }
 },
 "nbformat": 4,
 "nbformat_minor": 2
}
