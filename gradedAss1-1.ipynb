{
 "cells": [
  {
   "cell_type": "markdown",
   "metadata": {
    "raw_mimetype": "text/markdown"
   },
   "source": [
    "# Graded Lab Assignment: Logistic Regression\n",
    "\n",
    "In this assignment you will classify hand-written digits using logistic regression.\n",
    "\n",
    "The assignment follows Andrew Ng's explanation of Logistic Regression and (re)watching his videos could be useful (Week 3)\n",
    "\n",
    "Publish your notebook (ipynb file) to your Machine Learning repository on Github ON TIME. We will check the last commit on the day of the deadline. \n",
    "\n",
    "### Deadline Tuesday, October 10th, 23:59\n",
    "\n",
    "Do not hand in any other files, the Notebook should contain all your answers.\n",
    "\n",
    "The points for the assignmnet are distributed as follows:\n",
    "* The implementation\n",
    "    - prediction_function\n",
    "    - cost_function\n",
    "    - compute_gradient\n",
    "    - correct stop condition\n",
    "    - preventing overfitting\n",
    "    - systematically choosing learning rate \n",
    "    - \n",
    "    "
   ]
  },
  {
   "cell_type": "code",
   "execution_count": 2,
   "metadata": {
    "collapsed": false
   },
   "outputs": [
    {
     "name": "stdout",
     "output_type": "stream",
     "text": [
      "Populating the interactive namespace from numpy and matplotlib\n"
     ]
    }
   ],
   "source": [
    "%pylab inline\n",
    "import numpy as np"
   ]
  },
  {
   "cell_type": "markdown",
   "metadata": {},
   "source": [
    "Scikit-learn is a toolkit that has several datasets built in. You first need to install the toolkit: http://scikit-learn.org/stable/install.html\n",
    "\n",
    "The MNIST dataset that you will be using for this assignment contains images of hand-written digits that are only 8 by 8 pixels, which means the algorithm (logistic regression) should run on every computer.\n",
    "\n",
    "The code in the cell below shows how to work with the digits dataset and  how to visualize it. As you can see the numbers are not very clear in 8x8 pixels images, this means we cannot expect our logistic regression will have a very high classification score."
   ]
  },
  {
   "cell_type": "code",
   "execution_count": 3,
   "metadata": {
    "collapsed": false
   },
   "outputs": [
    {
     "name": "stdout",
     "output_type": "stream",
     "text": [
      "The numbers shown are: \n",
      " [[0 1 2 3 4]\n",
      " [5 6 7 8 9]]\n"
     ]
    },
    {
     "data": {
      "image/png": "[encoded data removed]",
      "text/plain": [
       "<matplotlib.figure.Figure at 0x116ae8550>"
      ]
     },
     "metadata": {},
     "output_type": "display_data"
    }
   ],
   "source": [
    "from sklearn.datasets import load_digits\n",
    "\n",
    "digits = load_digits(n_class=10)\n",
    "\n",
    "#Create two rows with numbers\n",
    "firstrow = np.hstack(digits.images[:5,:,:])\n",
    "secondrow = np.hstack(digits.images[5:10,:,:])\n",
    "\n",
    "plt.gray()\n",
    "plt.axis('off')\n",
    "\n",
    "#Show both rows at the same time\n",
    "plt.imshow(np.vstack((firstrow,secondrow)))\n",
    "\n",
    "print (\"The numbers shown are: \\n\", np.vstack((digits.target[:5], digits.target[5:10])))"
   ]
  },
  {
   "cell_type": "markdown",
   "metadata": {},
   "source": [
    "## The implementation\n",
    "\n",
    "You have to implement the next three functions and fill in the body of the loop in order to create a correct implementation of logistic regression. Don't change the definitions of the functions and input parameters.\n",
    "\n",
    "(1) Make sure that you do not overfit by keeping track of the score on the test set and implementing a correct stop condition. \n",
    "(2) Systematically pick a learning rate alpha that makes sure the algorithm learns in a smooth and stable manner (show how you do it). \n",
    "(3) Plot how your score on the test set improves over time. My best score was about 85% correct!\n",
    "(4) Make sure to comment your code!"
   ]
  },
  {
   "cell_type": "code",
   "execution_count": 39,
   "metadata": {
    "collapsed": false
   },
   "outputs": [],
   "source": [
    "#Make a prediction function h\n",
    "def prediction_function(x,theta):\n",
    "    z = dot(theta.T,x) \n",
    "    x_predict = 1 / (1 + exp(- z))\n",
    "    return x_predict "
   ]
  },
  {
   "cell_type": "code",
   "execution_count": 40,
   "metadata": {
    "collapsed": false
   },
   "outputs": [],
   "source": [
    "#Use the output of that function to compute the cost function J:\n",
    "def cost_function(x_predict,y):\n",
    "    #minimize the sum of squared errors\n",
    "    #use logistic regression and use the number of rows in x_predict for m\n",
    "    m = x.shape[0]\n",
    "    J =  (-1/m)*(dot(y,log(x_predict))+dot((1-y),log(1-x_predict)))\n",
    "    return J"
   ]
  },
  {
   "cell_type": "code",
   "execution_count": 41,
   "metadata": {
    "collapsed": false
   },
   "outputs": [],
   "source": [
    "#Create a function that returns the gradient values, given h (x_predict), y and x:\n",
    "def compute_gradient(x_predict, y, x):\n",
    "    m = x.shape[0]\n",
    "    gradient = (1/m)*dot(x.T, (x_predict - y))\n",
    "    return gradient"
   ]
  },
  {
   "cell_type": "code",
   "execution_count": 42,
   "metadata": {
    "collapsed": false
   },
   "outputs": [
    {
     "data": {
      "text/plain": [
       "[<matplotlib.lines.Line2D at 0x11c89e4e0>]"
      ]
     },
     "execution_count": 42,
     "metadata": {},
     "output_type": "execute_result"
    },
    {
     "data": {
      "image/png": "[encoded data removed]",
      "text/plain": [
       "<matplotlib.figure.Figure at 0x11909df98>"
      ]
     },
     "metadata": {},
     "output_type": "display_data"
    }
   ],
   "source": [
    "#learning rate\n",
    "alpha = 0.0001 #various 0.000001 < a < 0.01 were tested, this was chosen as the largest, accurate alpha\n",
    "iterations = 25#enough for a reduced cost (see bottom explanation)\n",
    "theta = np.zeros((64,10)) #(nr of pixels, nr of digits)\n",
    "\n",
    "x = np.reshape(digits.images[:1500],(1500,64)) #training set\n",
    "x_test = np.reshape(digits.images[1500:],(297,64)) #test set\n",
    "\n",
    "target = digits.target[:1500] #training target\n",
    "target_test = digits.target[1500:] #test target\n",
    "\n",
    "#TRAINING ITERATIONS\n",
    "m = x.shape[0] #number of digits in training set\n",
    "cost = np.zeros(iterations) #calculates cost reduce per iteration\n",
    "\n",
    "for i in range(iterations): #for every iteration\n",
    "    temp_cost = 0 #initial value for loop\n",
    "    for j in range(m): #for every digit in training set\n",
    "        \n",
    "        #hypothesis function\n",
    "        xj = reshape(x[j,:],(1,len(x[j,:]))) #reshapes the digit data to (1,64)\n",
    "        x_predict = prediction_function(xj.T,theta) #predicts possability of digits for xj\n",
    "\n",
    "        #y\n",
    "        y = np.zeros(10) #initiate\n",
    "        y[target[j]] = 1 \n",
    "                \n",
    "        #cost function\n",
    "        temp_cost += cost_function(x_predict,y) #sums up and calculates cost for all digit data\n",
    "        \n",
    "        #gradient descent step\n",
    "        gradient = compute_gradient(x_predict.T, reshape(y,(1,10)), xj) #calculates theta\n",
    "        theta = theta - alpha * gradient #updates theta according to stepsize\n",
    "#cost     \n",
    "    cost[i] = temp_cost\n",
    "plt.plot(list(range(iterations)),cost,'bs') #plot cost progress\n",
    "\n",
    "#As can be seen in the plotted function, the cost function decreases rapidly and becomes, \n",
    "#reasonably constant at 25 iterations. Therefore, this number was used as a stopcondition, \n",
    "#rather than a threshold with a while loop. \n",
    "#This threshold could be a certain value, reached when the difference of 2 consecutive temp_cost.\n",
    "\n",
    "\n"
   ]
  },
  {
   "cell_type": "code",
   "execution_count": 43,
   "metadata": {
    "collapsed": false
   },
   "outputs": [
    {
     "name": "stdout",
     "output_type": "stream",
     "text": [
      "The percentage of correctly estmated numbers is 88.8888888889 percent\n",
      "The numbers determined are: \n",
      " [ 1.  7.  4.  6.  3.  1.  3.  9.  1.  7.  6.  8.  4.  3.  1.  4.  0.  5.\n",
      "  3.  6.  9.  6.  1.  7.  5.  4.  4.  7.  2.  8.  2.  2.  5.  7.  9.  5.\n",
      "  4.  8.  8.  4.  0.  0.  8.  9.  8.  0.  1.  2.  3.  4.  5.  1.  8.  1.\n",
      "  9.  0.  1.  2.  3.  4.  5.  6.  7.  0.  1.  2.  3.  4.  5.  1.  7.  1.\n",
      "  9.  4.  9.  5.  5.  6.  5.  0.  8.  8.  1.  8.  4.  1.  7.  7.  1.  5.\n",
      "  1.  0.  0.  2.  2.  4.  8.  2.  0.  1.  2.  6.  1.  7.  7.  7.  8.  4.\n",
      "  6.  6.  6.  8.  9.  1.  5.  0.  9.  5.  2.  8.  0.  1.  7.  6.  3.  2.\n",
      "  1.  7.  8.  6.  3.  1.  3.  8.  1.  7.  6.  8.  4.  3.  1.  4.  0.  5.\n",
      "  3.  6.  9.  6.  1.  7.  5.  4.  4.  7.  2.  2.  5.  7.  3.  5.  8.  4.\n",
      "  1.  0.  8.  8.  8.  0.  1.  2.  3.  4.  5.  6.  7.  8.  9.  0.  1.  2.\n",
      "  8.  4.  5.  6.  7.  8.  9.  0.  1.  2.  1.  4.  5.  6.  7.  8.  9.  0.\n",
      "  9.  5.  5.  6.  5.  0.  9.  8.  9.  8.  4.  1.  7.  7.  7.  5.  1.  0.\n",
      "  0.  2.  2.  7.  8.  2.  0.  1.  2.  6.  8.  8.  7.  5.  8.  4.  6.  6.\n",
      "  6.  4.  9.  1.  5.  0.  9.  5.  2.  8.  2.  0.  0.  8.  7.  6.  3.  2.\n",
      "  1.  7.  4.  6.  3.  1.  3.  9.  1.  7.  6.  8.  4.  5.  1.  4.  0.  5.\n",
      "  3.  6.  9.  6.  8.  7.  5.  4.  4.  7.  2.  8.  2.  2.  5.  7.  9.  5.\n",
      "  4.  8.  8.  4.  9.  0.  8.  9.  8.]\n",
      "The numbers actually are: \n",
      " [ 1.  7.  4.  6.  3.  1.  3.  9.  1.  7.  6.  8.  4.  3.  1.  4.  0.  5.\n",
      "  3.  6.  9.  6.  1.  7.  5.  4.  4.  7.  2.  8.  2.  2.  5.  7.  9.  5.\n",
      "  4.  8.  8.  4.  9.  0.  8.  9.  8.  0.  1.  2.  3.  4.  5.  6.  7.  8.\n",
      "  9.  0.  1.  2.  3.  4.  5.  6.  9.  0.  1.  2.  3.  4.  5.  6.  7.  8.\n",
      "  9.  0.  9.  5.  5.  6.  5.  0.  9.  8.  9.  8.  4.  1.  7.  7.  3.  5.\n",
      "  1.  0.  0.  2.  2.  7.  8.  2.  0.  1.  2.  6.  3.  3.  7.  3.  3.  4.\n",
      "  6.  6.  6.  4.  9.  1.  5.  0.  9.  5.  2.  8.  0.  1.  7.  6.  3.  2.\n",
      "  1.  7.  4.  6.  3.  1.  3.  9.  1.  7.  6.  8.  4.  3.  1.  4.  0.  5.\n",
      "  3.  6.  9.  6.  1.  7.  5.  4.  4.  7.  2.  2.  5.  7.  9.  5.  4.  4.\n",
      "  9.  0.  8.  9.  8.  0.  1.  2.  3.  4.  5.  6.  7.  8.  9.  0.  1.  2.\n",
      "  3.  4.  5.  6.  7.  8.  9.  0.  1.  2.  3.  4.  5.  6.  7.  8.  9.  0.\n",
      "  9.  5.  5.  6.  5.  0.  9.  8.  9.  8.  4.  1.  7.  7.  3.  5.  1.  0.\n",
      "  0.  2.  2.  7.  8.  2.  0.  1.  2.  6.  3.  3.  7.  3.  3.  4.  6.  6.\n",
      "  6.  4.  9.  1.  5.  0.  9.  5.  2.  8.  2.  0.  0.  1.  7.  6.  3.  2.\n",
      "  1.  7.  4.  6.  3.  1.  3.  9.  1.  7.  6.  8.  4.  3.  1.  4.  0.  5.\n",
      "  3.  6.  9.  6.  1.  7.  5.  4.  4.  7.  2.  8.  2.  2.  5.  7.  9.  5.\n",
      "  4.  8.  8.  4.  9.  0.  8.  9.  8.]\n"
     ]
    }
   ],
   "source": [
    "#TEST ITERATIONS\n",
    "\n",
    "#initialize arrays with digit codes\n",
    "codex = np.zeros(len(x_test)) \n",
    "codey = np.zeros(len(x_test)) \n",
    "\n",
    "for j in range(len(x_test)):\n",
    "    #hypothesis\n",
    "    x_testj = reshape(x_test[j,:],(1,len(x_test[j,:]))) #reshapes the digit data\n",
    "    x_testpredict = prediction_function(x_testj.T,theta) #predicts possability of digits for x_testj\n",
    "\n",
    "    #y\n",
    "    y = np.zeros(10) #initiate y\n",
    "    y[target_test[j]] = 1 \n",
    "    \n",
    "    #determine digits\n",
    "    x_digit = argmax(x_testpredict) #determine which digit has the highest estimated probability\n",
    "    y_digit = argmax(y) #determine the digit in the original code \n",
    "    codex[j] = x_digit #fills in the estimated digit in the approximated code\n",
    "    codey[j] = y_digit #creates an array with the original code\n",
    "    \n",
    "    correct = np.sum(codex == codey) #calculates amount of correctly estimated code\n",
    "\n",
    "print (\"The percentage of correctly estmated numbers is\", (correct / len(x_test))*100, \"percent\")    \n",
    "print (\"The numbers determined are: \\n\", codex)\n",
    "print (\"The numbers actually are: \\n\", codey)\n",
    "\n",
    "#The highest percentage of correctly estimated digits in the code was 88.88 percent. \n",
    "#Changing the current alpha reduced this number.\n"
   ]
  },
  {
   "cell_type": "code",
   "execution_count": null,
   "metadata": {
    "collapsed": false
   },
   "outputs": [],
   "source": [
    "#UNDER- AND OVERFITTING\n",
    "\n",
    "#Overfitting occurs when a learning algorithm matches the training set to accurately. \n",
    "#Causing the algorithm performance problems when classifying the testing data set.\n",
    "#Underfitting occurs when the algorithm cannot clasify the training data and \n",
    "#therefor also not the new testing data or generalize the model in general.\n",
    "\n",
    "#It is important to avoid both these problems, that one finds a nice balance between \n",
    "#training the data set and generalizing it. \n",
    "#It's important to test the difference in alpha values and number of iteration.\n",
    "#In addition it is helpful to have a large training data set, \n",
    "#to avoid the theta's to become to specific to the training set."
   ]
  }
 ],
 "metadata": {
  "anaconda-cloud": {},
  "celltoolbar": "Raw Cell Format",
  "kernelspec": {
   "display_name": "Python 3",
   "language": "python",
   "name": "python3"
  },
  "language_info": {
   "codemirror_mode": {
    "name": "ipython",
    "version": 3
   },
   "file_extension": ".py",
   "mimetype": "text/x-python",
   "name": "python",
   "nbconvert_exporter": "python",
   "pygments_lexer": "ipython3",
   "version": "3.6.0"
  }
 },
 "nbformat": 4,
 "nbformat_minor": 0
}
