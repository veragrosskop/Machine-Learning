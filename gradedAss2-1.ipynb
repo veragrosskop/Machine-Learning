{
 "cells": [
  {
   "cell_type": "markdown",
   "metadata": {},
   "source": [
    "# Graded Lab Assignment 2: Evaluate classifiers (10 points)\n",
    " \n",
    "In this assignment you will optimize and compare the perfomance of a parametric (logistic regression) and non-parametric (k-nearest neighbours) classifier on the MNIST dataset.\n",
    "\n",
    "Publish your notebook (ipynb file) to your Machine Learning repository on Github ON TIME. We will check the last commit on the day of the deadline.  \n",
    "\n",
    "### Deadline Friday, November 17, 23:59.\n",
    "\n",
    "This notebook consists of three parts: design, implementation, results & analysis. \n",
    "We provide you with the design of the experiment and you have to implement it and analyse the results.\n",
    "\n",
    "### Criteria used for grading\n",
    "* Explain and analyse all results.\n",
    "* Make your notebook easy to read. When you are finished take your time to review it!\n",
    "* You do not want to repeat the same chunks of code multiply times. If your need to do so, write a function. \n",
    "* The implementation part of this assignment needs careful design before you start coding. You could start by writing pseudocode.\n",
    "* In this exercise the insights are important. Do not hide them somewhere in the comments in the implementation, but put them in the Analysis part\n",
    "* Take care that all the figures and tables are well labeled and numbered so that you can easily refer to them.\n",
    "* A plot should have a title and axes labels.\n",
    "* You may find that not everything is 100% specified in this assignment. That is correct! Like in real life you probably have to make some choices. Motivate your choices.\n"
   ]
  },
  {
   "cell_type": "markdown",
   "metadata": {},
   "source": [
    "### Grading points distribution\n",
    "\n",
    "* Implementation 5 points\n",
    "* Results and analysis 5 points"
   ]
  },
  {
   "cell_type": "markdown",
   "metadata": {},
   "source": [
    "## Design of the experiment"
   ]
  },
  {
   "cell_type": "markdown",
   "metadata": {},
   "source": [
    "You do not have to keep the order of this design and are allowed to alter it if you are confident.\n",
    "* Import all necessary modules. Try to use as much of the available functions as possible. \n",
    "* Use the provided train and test set of MNIST dataset.\n",
    "* Pre-process data eg. normalize/standardize, reformat, etc.           \n",
    "  Do whatever you think is necessary and motivate your choices.\n",
    "* (1) Train logistic regression and k-nn using default settings.\n",
    "* Use 10-fold cross validation for each classifier to optimize the performance for one parameter: \n",
    "    * consult the documentation on how cross validation works in sklearn (important functions:             cross_val_score(), GridSearchCV()).\n",
    "    * Optimize k for k-nn,\n",
    "    * for logistic regression focus on the regularization parameter,\n",
    "* (2) Train logistic regression and k-nn using optimized parameters.\n",
    "* Show performance on the cross-validation set for (1) and (2) for both classifiers: \n",
    "    * report the average cross validation error rates (alternatively, the average accuracies - it's up to you) and standard deviation,\n",
    "    * plot the average cross valildation errors (or accuracies) for different values of the parameter that you tuned. \n",
    "\n",
    "* Compare performance on the test set for two classifiers:\n",
    "    * produce the classification report for both classifiers, consisting of precision, recall, f1-score. Explain and analyse the results.\n",
    "    * print confusion matrix for both classifiers and compare whether they missclassify the same  classes. Explain and analyse the results.\n",
    "* Discuss your results.\n",
    "* BONUS: only continue with this part if you are confident that your implemention is complete \n",
    "    * tune more parameters of logistic regression\n",
    "    * add additional classifiers (NN, Naive Bayes, decision tree), \n",
    "    * analyse additional dataset (ex. Iris dataset)"
   ]
  },
  {
   "cell_type": "markdown",
   "metadata": {},
   "source": [
    "## Implementation of the experiment"
   ]
  },
  {
   "cell_type": "code",
   "execution_count": 232,
   "metadata": {
    "collapsed": false
   },
   "outputs": [
    {
     "name": "stdout",
     "output_type": "stream",
     "text": [
      "Populating the interactive namespace from numpy and matplotlib\n"
     ]
    }
   ],
   "source": [
    "%pylab inline\n",
    "\n",
    "from sklearn.datasets import load_digits\n",
    "from sklearn.datasets import load_iris               # Data used in BONUS exercise\n",
    "from sklearn.preprocessing import StandardScaler     # to normalize data\n",
    "from sklearn.model_selection import train_test_split # to split in train and test set\n",
    "from sklearn.model_selection import cross_val_score  # for 10-fold cross validation\n",
    "from sklearn.linear_model import LogisticRegression  # logistic regression classifier\n",
    "from sklearn.neighbors import KNeighborsClassifier   # knn classifier\n",
    "from sklearn.metrics import precision_score, recall_score, confusion_matrix, classification_report, f1_score, precision_recall_curve\n",
    "\n",
    "# MNIST DATASET\n",
    "digits = load_digits()\n",
    "X = reshape(digits.images,(1797,64))                   #needed for cross validation                    \n",
    "X_train_mnist = reshape(digits.images[:1500],(1500,64))  \n",
    "X_test_mnist = reshape(digits.images[1500:],(297,64))\n",
    "y = digits.target                                      #needed for cross validation\n",
    "y_train_mnist = digits.target[:1500]\n",
    "y_test_mnist = digits.target[1500:]            \n",
    "\n",
    "#SCALING OF MNIST DATASET\n",
    "    # Perform standardization by centering and scaling on X dataset(normalization)\n",
    "scaler = StandardScaler()                                \n",
    "scaler.fit(X_train_mnist)\n",
    "scaler.fit(X_test_mnist)\n",
    "X_train_scaled_mnist = scaler.transform(X_train_mnist) #scaled training set\n",
    "X_test_scaled_mnist = scaler.transform(X_test_mnist)   #scaled test set\n",
    "\n",
    "#IRIS DATASET (BONUS)\n",
    "iris = load_iris()\n",
    "X_iris = iris.data\n",
    "y_iris = iris.target\n",
    "scaler.fit(X_iris)  #scaling of data\n",
    "X_train_iris, X_test_iris, y_train_iris, y_test_iris = train_test_split(X_iris, y_iris, test_size=0.33)\n",
    "\n",
    "# 10-FOLD CROSS VALIDATION\n",
    "def cv_10f(model, m):\n",
    "    if m==0:\n",
    "        model = model.fit(X_train_scaled_mnist, y_train_mnist) #fit model to scaled training data\n",
    "        score = cross_val_score(model, X, y, cv=10)            #calculate accuracy for each cross validation \n",
    "    if m==1: #bonus for iris set\n",
    "        model = model.fit(X_train_iris, y_train_iris)\n",
    "        score = cross_val_score(model, X_iris, y_iris, cv=10)\n",
    "    average_score = average(score)                         #average of the 10 cross validation accuracies\n",
    "    st_dev = score.std(axis=0)                             #standard deviation of 10-fold cross validation\n",
    "    cv10 = [score, average_score, st_dev]                  #stores values, so you do as few calculations as possible\n",
    "    return cv10  \n",
    "\n",
    "lr = LogisticRegression()\n",
    "lrcv10 = cv_10f(lr, 0)\n",
    "knn = KNeighborsClassifier()\n",
    "knncv10 = cv_10f(knn, 0)\n",
    "\n",
    "#OPTIMIZATION OF K\n",
    "k_list = []                                      #initialize the values of k\n",
    "start = 1\n",
    "end = 30\n",
    "K = range(start,end) #range of k's we want to test for optimalization    \n",
    "# Do 10-fold cv for all k's in the range\n",
    "for k in K:\n",
    "    knn = KNeighborsClassifier(n_neighbors = k)  #initiate function with new parameter k\n",
    "    k_list.append(cv_10f(knn,0)[1])                #save average 10-fold cv value for that k\n",
    "optk = start+(k_list.index(max(k_list)))         #calculate optimal k\n",
    "\n",
    "#OPTIMIZATION OF LAMBDA - REGULARIZATION\n",
    "    #NOTE !! - C is the inverse of lambda (so this needs to be adapted later)\n",
    "l_list = []                                      #initialize the values of C\n",
    "start = 0.01\n",
    "end = 0.3\n",
    "steps = 30\n",
    "L = np.linspace(start, end, num=steps) #range of C's we want to test for optimalization \n",
    "# Do 10-fold cv for all C's in the range\n",
    "for l in L:\n",
    "    lr = LogisticRegression(C = l)               #initiate function with new parameter C\n",
    "    l_list.append(cv_10f(lr,0)[1])                 #save average 10-fold cv value for that C\n",
    "stepsize = (end-start)/steps                     #calculates the stepsize in the range\n",
    "optC = 0.01+(l_list.index(max(l_list)))*stepsize #calculate optimal C\n",
    "\n",
    "#OPTIMIZED FUNCTIONS\n",
    "#Logistic Regression with optimal C\n",
    "optimized_lr = LogisticRegression(C = optC)              #optimized function for linear regression\n",
    "opt_lrcv10 = cv_10f(optimized_lr,0)                        #optimized 10-fold cross validation\n",
    "#Nearest Neighbors Classification with optimal k\n",
    "optimized_knn = KNeighborsClassifier(n_neighbors = optk) #optimized function for k nearest neighbors\n",
    "opt_knncv10 = cv_10f(optimized_knn,0)                      #optimized 10-fold cross validation\n",
    "\n",
    "#CLASSIFICATION REPORTS\n",
    "target_names = [str(digit) for digit in range(0,10)]  #class labels (digits)\n",
    "#predict labels with the optimized function\n",
    "lry_predict = optimized_lr.fit(X_test_scaled_mnist, y_test_mnist).predict(X_test_scaled_mnist) #Logistic Regression with C = 0.0486666\n",
    "knny_predict = optimized_knn.fit(X_test_scaled_mnist, y_test_mnist).predict(X_test_scaled_mnist) #Nearest Neighbors Classification with k = 3\n",
    "\n",
    "#CONFUSION MATRIX\n",
    "lr_cm = confusion_matrix(y_test_mnist, lry_predict)   #linear regression confusion matrix\n",
    "knn_cm = confusion_matrix(y_test_mnist, knny_predict) #nearest neighbors confusion matrix"
   ]
  },
  {
   "cell_type": "markdown",
   "metadata": {},
   "source": [
    "## Results and analysis of the experiment"
   ]
  },
  {
   "cell_type": "markdown",
   "metadata": {},
   "source": [
    "## 1. Training with default settings\n",
    "##### Initiation\n",
    "This is necessary in order to make the algorithms perform better. The data will now have it's value in a certain range in contrary to a dataset where the values range from -100 to 10000000"
   ]
  },
  {
   "cell_type": "markdown",
   "metadata": {},
   "source": [
    "##### 10-Fold Cross Validation\n",
    "The main cv_10f function performs 10-Fold cross validation on a given machine learning model. It then stores the values of each cross validation, the average and the standard deviation in a list, for later use. This way it will only be necessary to run the cross validation in this function once per application, which saves time."
   ]
  },
  {
   "cell_type": "markdown",
   "metadata": {},
   "source": [
    "## 2. Training with optimalized parameters\n",
    "### 10-Fold Cross Validation"
   ]
  },
  {
   "cell_type": "markdown",
   "metadata": {},
   "source": [
    "##### Optimization of k"
   ]
  },
  {
   "cell_type": "code",
   "execution_count": 233,
   "metadata": {
    "collapsed": false,
    "scrolled": true
   },
   "outputs": [
    {
     "name": "stdout",
     "output_type": "stream",
     "text": [
      "The highest accuracy rate: 0.97778921138 is achieved with k = 3\n"
     ]
    },
    {
     "data": {
      "image/png": "[encoded data removed]",
      "text/plain": [
       "<matplotlib.figure.Figure at 0x11277f4e0>"
      ]
     },
     "metadata": {},
     "output_type": "display_data"
    }
   ],
   "source": [
    "#plot the accuracy values for differen k values\n",
    "plt.title(\"Accuracy for k\")\n",
    "plt.ylabel(\"Accuracy\")\n",
    "plt.xlabel(\"value of k\")\n",
    "plt.plot(K,k_list)\n",
    "\n",
    "#Report the highest accuracy and it's corresponding optimal value of k\n",
    "print(\"The highest accuracy rate:\",max(k_list),\"is achieved with k =\",optk)"
   ]
  },
  {
   "cell_type": "markdown",
   "metadata": {},
   "source": [
    "##### Optimization of lambda"
   ]
  },
  {
   "cell_type": "code",
   "execution_count": 236,
   "metadata": {
    "collapsed": false
   },
   "outputs": [
    {
     "name": "stdout",
     "output_type": "stream",
     "text": [
      "The highest accuracy rate: 0.941602537134 is achieved with C = 0.048666666666666664 , so lambda =  20.547945205479454\n"
     ]
    },
    {
     "data": {
      "image/png": "[encoded data removed]",
      "text/plain": [
       "<matplotlib.figure.Figure at 0x10dfc2470>"
      ]
     },
     "metadata": {},
     "output_type": "display_data"
    }
   ],
   "source": [
    "#plot the accuracy values for differen C values\n",
    "plt.title(\"Accuracy for C\")\n",
    "plt.ylabel(\"Accuracy\")\n",
    "plt.xlabel(\"value of C\")\n",
    "plt.plot(L,l_list)\n",
    "\n",
    "#Report the highest accuracy and it's corresponding optimal value of C\n",
    "print(\"The highest accuracy rate:\",max(l_list),\"is achieved with C =\",optC, ', so lambda = ',1/optC)"
   ]
  },
  {
   "cell_type": "code",
   "execution_count": 237,
   "metadata": {
    "collapsed": false
   },
   "outputs": [
    {
     "name": "stdout",
     "output_type": "stream",
     "text": [
      "Logistic Regression: \n",
      " default parameters:\n",
      "   average cv: 0.931029834684 \n",
      "   standard deviation: 0.0347846545518 \n",
      " function with optimized parameter C = 0.048666666666666664 :\n",
      "   average cv: 0.941602537134 \n",
      "   standard deviation: 0.0295896304236\n",
      "\n",
      "K Nearest Neighbors Classification: \n",
      " default parameters:\n",
      "   average cv: 0.973948287255 \n",
      "   standard deviation: 0.0165496015374 \n",
      " function with optimized parameter k = 3 :\n",
      "   average cv: 0.97778921138 \n",
      "   standard deviation: 0.0159395747319\n"
     ]
    }
   ],
   "source": [
    "print(\"Logistic Regression: \\n default parameters:\\n   average cv:\",lrcv10[1],\"\\n   standard deviation:\",lrcv10[2],\"\\n function with optimized parameter C =\", optC,\":\\n   average cv:\",opt_lrcv10[1],\"\\n   standard deviation:\",opt_lrcv10[2])\n",
    "print(\"\\nK Nearest Neighbors Classification: \\n default parameters:\\n   average cv:\",knncv10[1],\"\\n   standard deviation:\",knncv10[2],\"\\n function with optimized parameter k =\", optk,\":\\n   average cv:\",opt_knncv10[1],\"\\n   standard deviation:\",opt_knncv10[2])"
   ]
  },
  {
   "cell_type": "markdown",
   "metadata": {},
   "source": [
    "##### Analysis\n",
    "After plotting various ranges, the following ranges were kept, because they illustrate the difference best.\n",
    "An attempt to create a function to go through the values for the parameters for both methods was made, however I did not succeed in this and therefore decided to keep the two seperate loops in the code for k and C.\n",
    "\n",
    "The k nearest neighbors classification as expected performs a lot better than logistic regression on digit recognision. Digit recognision is what the nearest neighbor method is known to perform well for.\n",
    "\n",
    "As we can see both functions perform better with the new optimized parameters. The average accuracy of the cross validation is higher for the the optimized function in both models, which means that there is more rightly classified data. \n",
    "\n",
    "The standard deviation of both functions also gives a nice insight. The lower the value of the standard deviation is, the closer the values of the results of each individual cross validation in the 10-Fold cross validation are. Alternatively, there is less difference between the performance of the model on various cross validation sets. This means that the model is more general and less tightly fit to the specific data it has been trained on. \n",
    "As we can see the values of the standard deviation are a lot lower for knn in general compared to linear regression. In both cases the optimized function results in a lower standard deviation than the function with default settings. In conclusion this means that we have optimized one of the parameters used in the default functions for better performance. \n",
    "\n",
    "Although the difference between the optimized and non optimized functions isn't huge it is definetely significant, especially if we want to apply these learning algorithms to a larger dataset."
   ]
  },
  {
   "cell_type": "markdown",
   "metadata": {},
   "source": [
    "### Classification report"
   ]
  },
  {
   "cell_type": "code",
   "execution_count": 238,
   "metadata": {
    "collapsed": false
   },
   "outputs": [
    {
     "name": "stdout",
     "output_type": "stream",
     "text": [
      "Logistic Regression Classification Report:\n",
      "              precision    recall  f1-score   support\n",
      "\n",
      "          0       1.00      1.00      1.00        27\n",
      "          1       0.97      0.94      0.95        31\n",
      "          2       1.00      1.00      1.00        27\n",
      "          3       0.97      1.00      0.98        30\n",
      "          4       1.00      0.97      0.98        33\n",
      "          5       0.91      1.00      0.95        30\n",
      "          6       1.00      1.00      1.00        30\n",
      "          7       1.00      1.00      1.00        30\n",
      "          8       0.89      0.89      0.89        28\n",
      "          9       0.93      0.87      0.90        31\n",
      "\n",
      "avg / total       0.97      0.97      0.97       297\n",
      "\n",
      "K Nearest Neighbors Classification Report:\n",
      "              precision    recall  f1-score   support\n",
      "\n",
      "          0       1.00      1.00      1.00        27\n",
      "          1       0.86      1.00      0.93        31\n",
      "          2       1.00      1.00      1.00        27\n",
      "          3       0.97      1.00      0.98        30\n",
      "          4       1.00      1.00      1.00        33\n",
      "          5       1.00      0.90      0.95        30\n",
      "          6       1.00      0.97      0.98        30\n",
      "          7       1.00      1.00      1.00        30\n",
      "          8       1.00      0.89      0.94        28\n",
      "          9       0.94      0.97      0.95        31\n",
      "\n",
      "avg / total       0.98      0.97      0.97       297\n",
      "\n"
     ]
    }
   ],
   "source": [
    "print(\"Logistic Regression Classification Report:\\n\",classification_report(y_test_mnist, lry_predict, target_names=target_names))\n",
    "print(\"K Nearest Neighbors Classification Report:\\n\", classification_report(y_test_mnist, knny_predict, target_names=target_names))"
   ]
  },
  {
   "cell_type": "markdown",
   "metadata": {},
   "source": [
    "##### Analysis\n",
    "The two models that were tested differ only in their precision (tp/(tp + fp)). Meaning that knn has less false positives. If you look at the first collom in the classification report, you can see that knn has 7 digit's classified with a precision of 1.00, compared to 5 for logistic regression. This means that for those 7 digits there are 0 false positives, which is a really good score.\n",
    "\n",
    "### Confusion Matrix"
   ]
  },
  {
   "cell_type": "code",
   "execution_count": 239,
   "metadata": {
    "collapsed": false
   },
   "outputs": [
    {
     "name": "stdout",
     "output_type": "stream",
     "text": [
      "Logistic Regression: \n",
      " [[27  0  0  0  0  0  0  0  0  0]\n",
      " [ 0 29  0  0  0  0  0  0  0  2]\n",
      " [ 0  0 27  0  0  0  0  0  0  0]\n",
      " [ 0  0  0 30  0  0  0  0  0  0]\n",
      " [ 0  0  0  0 32  0  0  0  1  0]\n",
      " [ 0  0  0  0  0 30  0  0  0  0]\n",
      " [ 0  0  0  0  0  0 30  0  0  0]\n",
      " [ 0  0  0  0  0  0  0 30  0  0]\n",
      " [ 0  1  0  0  0  2  0  0 25  0]\n",
      " [ 0  0  0  1  0  1  0  0  2 27]]\n",
      "K Nearest Neighbors: \n",
      " [[27  0  0  0  0  0  0  0  0  0]\n",
      " [ 0 31  0  0  0  0  0  0  0  0]\n",
      " [ 0  0 27  0  0  0  0  0  0  0]\n",
      " [ 0  0  0 30  0  0  0  0  0  0]\n",
      " [ 0  0  0  0 33  0  0  0  0  0]\n",
      " [ 0  1  0  0  0 27  0  0  0  2]\n",
      " [ 0  1  0  0  0  0 29  0  0  0]\n",
      " [ 0  0  0  0  0  0  0 30  0  0]\n",
      " [ 0  3  0  0  0  0  0  0 25  0]\n",
      " [ 0  0  0  1  0  0  0  0  0 30]]\n"
     ]
    }
   ],
   "source": [
    "print(\"Logistic Regression: \\n\",lr_cm)\n",
    "print(\"K Nearest Neighbors: \\n\",knn_cm)"
   ]
  },
  {
   "cell_type": "markdown",
   "metadata": {},
   "source": [
    "##### Analysis\n",
    "The diagonal in the confusion matrix represents the correctly classified digits, whereas the ones outside of the diagonal represent the wrongly classified digits. Linear regression has a total of 10 misclassified digits in comparisson to knn, which has only 8, this is the poorer score of the two. As was expected from the classification report above, stating that knn has less false positives. \n",
    "\n",
    "They both misclassify the digits 1,3 and 9 and in addition linear regression misclassified 5 and 8.\n",
    "\n",
    "It is interesting to note that knn has a really low precision on the digit \"1\"(having it mislabeled as 1 \"5\", 1 \"6\" and 3 \"8\"'s. The only other digit that was mislabeled by knn was the \"9\" classified as a \"5\" twice. "
   ]
  },
  {
   "cell_type": "markdown",
   "metadata": {
    "collapsed": true
   },
   "source": [
    "# Bonus"
   ]
  },
  {
   "cell_type": "markdown",
   "metadata": {
    "collapsed": true
   },
   "source": [
    "## Iris dataset"
   ]
  },
  {
   "cell_type": "code",
   "execution_count": 235,
   "metadata": {
    "collapsed": false
   },
   "outputs": [
    {
     "name": "stdout",
     "output_type": "stream",
     "text": [
      "The highest accuracy rate: 0.98 is achieved with k = 12.01\n",
      "The highest accuracy rate: 0.933333333333 is achieved with C = 0.48366666666666663 , so lambda =  2.067539627842867\n",
      "Logistic Regression: \n",
      " default parameters:\n",
      "   average cv: 0.933333333333 \n",
      "   standard deviation: 0.0516397779494 \n",
      " function with C = 0.48366666666666663 :\n",
      "   average cv: 0.946666666667 \n",
      "   standard deviation: 0.049888765157\n",
      "\n",
      "K Nearest Neighbors Classification: \n",
      " default parameters:\n",
      "   average cv: 0.953333333333 \n",
      "   standard deviation: 0.0426874949162 \n",
      " function with k = 12.01 :\n",
      "   average cv: 0.973333333333 \n",
      "   standard deviation: 0.0326598632371\n",
      "\n",
      "Logistic Regression Classification Report:\n",
      "              precision    recall  f1-score   support\n",
      "\n",
      "     setosa       1.00      1.00      1.00        13\n",
      " versicolor       1.00      0.85      0.92        20\n",
      "  virginica       0.85      1.00      0.92        17\n",
      "\n",
      "avg / total       0.95      0.94      0.94        50\n",
      "\n",
      "K Nearest Neighbors Classification Report:\n",
      "              precision    recall  f1-score   support\n",
      "\n",
      "     setosa       0.00      0.00      0.00        13\n",
      " versicolor       0.51      1.00      0.68        20\n",
      "  virginica       1.00      0.65      0.79        17\n",
      "\n",
      "avg / total       0.55      0.62      0.54        50\n",
      "\n",
      "Logistic Regression: \n",
      " [[13  0  0]\n",
      " [ 0 17  3]\n",
      " [ 0  0 17]]\n",
      "K Nearest Neighbors: \n",
      " [[ 0 13  0]\n",
      " [ 0 20  0]\n",
      " [ 0  6 11]]\n"
     ]
    },
    {
     "name": "stderr",
     "output_type": "stream",
     "text": [
      "/Users/Vera/anaconda/lib/python3.6/site-packages/sklearn/metrics/classification.py:1113: UndefinedMetricWarning: Precision and F-score are ill-defined and being set to 0.0 in labels with no predicted samples.\n",
      "  'precision', 'predicted', average, warn_for)\n"
     ]
    },
    {
     "data": {
      "image/png": "[encoded data removed]",
      "text/plain": [
       "<matplotlib.figure.Figure at 0x1127fcd68>"
      ]
     },
     "metadata": {},
     "output_type": "display_data"
    }
   ],
   "source": [
    "#DEFAULT SETTINGS\n",
    "lrcv10_i = cv_10f(lr, 1)\n",
    "knncv10_i = cv_10f(knn, 1)\n",
    "\n",
    "#OPTIMIZATION OF PARAMETERS\n",
    "k_list_i = []\n",
    "for k in K:\n",
    "    knn = KNeighborsClassifier(n_neighbors = k)      #initiate function with new parameter k\n",
    "    k_list_i.append(cv_10f(knn,1)[1])                #save average 10-fold cv value for that k\n",
    "optk_i = start+(k_list_i.index(max(k_list_i)))       #calculate optimal k\n",
    "\n",
    "l_list_i = []\n",
    "start_i = 0.01\n",
    "end_i = 0.3\n",
    "steps_i = 50\n",
    "L_i = np.linspace(start_i, end_i, num=steps_i) #range of C's we want to test for optimalization\n",
    "for l in L_i:\n",
    "    lr = LogisticRegression(C = l)                   #initiate function with new parameter C\n",
    "    l_list_i.append(cv_10f(lr,1)[1])                 #save average 10-fold cv value for that C\n",
    "stepsize_i = (end_i-start_i)/steps_i                         #calculates the stepsize in the range\n",
    "optC_i = 0.01+(l_list_i.index(max(l_list_i)))*stepsize #calculate optimal C\n",
    "\n",
    "#plot the accuracy values for differen k values\n",
    "plt.title(\"Accuracy for k\")\n",
    "plt.ylabel(\"Accuracy\")\n",
    "plt.xlabel(\"value of k\")\n",
    "plt.plot(K,k_list_i)\n",
    "print(\"The highest accuracy rate:\",max(k_list_i),\"is achieved with k =\",optk_i) #reports optimal k\n",
    "\n",
    "#plot the accuracy values for differen C values\n",
    "plt.title(\"Accuracy for C\")\n",
    "plt.ylabel(\"Accuracy\")\n",
    "plt.xlabel(\"value of C\")\n",
    "plt.plot(L_i,l_list_i)\n",
    "print(\"The highest accuracy rate:\",max(l_list_i),\"is achieved with C =\",optC_i, ', so lambda = ',1/optC_i)\n",
    "\n",
    "#OPTIMIZED FUNCTIONS\n",
    "#Logistic Regression with optimal C\n",
    "optimized_lr_i = LogisticRegression(C = optC_i)              #optimized function for linear regression\n",
    "opt_lrcv10_i = cv_10f(optimized_lr_i,1)                        #optimized 10-fold cross validation\n",
    "#Nearest Neighbors Classification with optimal k\n",
    "optimized_knn_i = KNeighborsClassifier(n_neighbors = 12) #optimized function for k nearest neighbors\n",
    "opt_knncv10_i = cv_10f(optimized_knn_i,1)                      #optimized 10-fold cross validation\n",
    "\n",
    "print(\"Logistic Regression: \\n default parameters:\\n   average cv:\",lrcv10_i[1],\"\\n   standard deviation:\",lrcv10_i[2],\"\\n function with C =\", optC_i,\":\\n   average cv:\",opt_lrcv10_i[1],\"\\n   standard deviation:\",opt_lrcv10_i[2])\n",
    "print(\"\\nK Nearest Neighbors Classification: \\n default parameters:\\n   average cv:\",knncv10_i[1],\"\\n   standard deviation:\",knncv10_i[2],\"\\n function with k =\", optk_i,\":\\n   average cv:\",opt_knncv10_i[1],\"\\n   standard deviation:\",opt_knncv10_i[2])\n",
    "\n",
    "#CLASSIFICATION REPORTS\n",
    "#predict labels with the optimized function\n",
    "lry_predict_i = lr.fit(X_test_iris, y_test_iris).predict(X_test_iris) #Logistic Regression with default C\n",
    "knny_predict_i = knn.fit(X_test_iris, y_test_iris).predict(X_test_iris) #Nearest Neighbors Classification with default k \n",
    "\n",
    "#CONFUSION MATRIX\n",
    "target_names_i = iris.target_names\n",
    "lr_cm_i = confusion_matrix(y_test_iris, lry_predict_i)   #linear regression confusion matrix\n",
    "knn_cm_i = confusion_matrix(y_test_iris, knny_predict_i) #nearest neighbors confusion matrix\n",
    "\n",
    "print(\"\\nLogistic Regression Classification Report:\\n\",classification_report(y_test_iris, lry_predict_i, target_names=target_names_i))\n",
    "print(\"K Nearest Neighbors Classification Report:\\n\", classification_report(y_test_iris, knny_predict_i, target_names=target_names_i))\n",
    "\n",
    "print(\"Logistic Regression: \\n\",lr_cm_i)\n",
    "print(\"K Nearest Neighbors: \\n\",knn_cm_i)"
   ]
  },
  {
   "cell_type": "markdown",
   "metadata": {},
   "source": [
    "##### Analysis\n",
    "\n",
    "For Logistic regression the optimized function performs the best on the iris data. However, the iris data is classified best for KNN with the default settings. I tried to change various values and ranges, but in the end it didn't seem to change much. \n",
    "\n",
    "A possible reason for this is either that I didn't find a correct parameter, or that KNN is not a good method for this data. "
   ]
  },
  {
   "cell_type": "markdown",
   "metadata": {},
   "source": [
    "## Testing Other Learning Algorithms"
   ]
  },
  {
   "cell_type": "code",
   "execution_count": 222,
   "metadata": {
    "collapsed": false
   },
   "outputs": [
    {
     "name": "stdout",
     "output_type": "stream",
     "text": [
      "The highest accuracy rate: 0.9648841766 is achieved with alpha = 0.1743333333333333\n"
     ]
    },
    {
     "name": "stderr",
     "output_type": "stream",
     "text": [
      "/Users/Vera/anaconda/lib/python3.6/site-packages/sklearn/neural_network/multilayer_perceptron.py:563: ConvergenceWarning: Stochastic Optimizer: Maximum iterations reached and the optimization hasn't converged yet.\n",
      "  % (), ConvergenceWarning)\n"
     ]
    },
    {
     "name": "stdout",
     "output_type": "stream",
     "text": [
      "Neural Networks: \n",
      " default parameters:\n",
      "   average cv: 0.928689421131 \n",
      "   standard deviation: 0.0331923111853 \n",
      " function with optimized parameter alpha = 0.1743333333333333 :\n",
      "   average cv: 0.951630015925 \n",
      "   standard deviation: 0.0331581610394\n",
      "Neural Networks Report:\n",
      "              precision    recall  f1-score   support\n",
      "\n",
      "          0       1.00      1.00      1.00        27\n",
      "          1       1.00      1.00      1.00        31\n",
      "          2       1.00      1.00      1.00        27\n",
      "          3       1.00      1.00      1.00        30\n",
      "          4       1.00      1.00      1.00        33\n",
      "          5       1.00      1.00      1.00        30\n",
      "          6       1.00      1.00      1.00        30\n",
      "          7       1.00      1.00      1.00        30\n",
      "          8       1.00      1.00      1.00        28\n",
      "          9       1.00      1.00      1.00        31\n",
      "\n",
      "avg / total       1.00      1.00      1.00       297\n",
      "\n",
      "Neural Networks: \n",
      " [[27  0  0  0  0  0  0  0  0  0]\n",
      " [ 0 31  0  0  0  0  0  0  0  0]\n",
      " [ 0  0 27  0  0  0  0  0  0  0]\n",
      " [ 0  0  0 30  0  0  0  0  0  0]\n",
      " [ 0  0  0  0 33  0  0  0  0  0]\n",
      " [ 0  0  0  0  0 30  0  0  0  0]\n",
      " [ 0  0  0  0  0  0 30  0  0  0]\n",
      " [ 0  0  0  0  0  0  0 30  0  0]\n",
      " [ 0  0  0  0  0  0  0  0 28  0]\n",
      " [ 0  0  0  0  0  0  0  0  0 31]]\n"
     ]
    },
    {
     "name": "stderr",
     "output_type": "stream",
     "text": [
      "/Users/Vera/anaconda/lib/python3.6/site-packages/sklearn/neural_network/multilayer_perceptron.py:563: ConvergenceWarning: Stochastic Optimizer: Maximum iterations reached and the optimization hasn't converged yet.\n",
      "  % (), ConvergenceWarning)\n"
     ]
    },
    {
     "data": {
      "image/png": "[encoded data removed]",
      "text/plain": [
       "<matplotlib.figure.Figure at 0x112113358>"
      ]
     },
     "metadata": {},
     "output_type": "display_data"
    }
   ],
   "source": [
    "#add additional classifiers (NN, Naive Bayes, decision tree)\n",
    "#NEURAL NETWORKS\n",
    "#First we import all the modules that you need for this exrecise\n",
    "from sklearn.neural_network import MLPClassifier # neural network classifier\n",
    "\n",
    "#Step 6: Load NN Classifer\n",
    "# Study in the documentation all the arguments that the function takes as input and returns as output.\n",
    "# Choose some initial values to start with and experiment with them after you get to Step 8.\n",
    "mlp = MLPClassifier(solver='lbfgs', max_iter=2000, activation='logistic', hidden_layer_sizes=[100])\n",
    "mlpcv10 = cv_10f(mlp,0)\n",
    "\n",
    "#OPTIMIZATION OF LAMBDA - REGULARIZATION\n",
    "a_list = []                                      #initialize the values of alpha\n",
    "a_start = 0.00001\n",
    "a_end = 0.001\n",
    "a_steps = 30\n",
    "A = np.linspace(start, end, num=steps)           #range of alpha's we want to test for optimalization \n",
    "\n",
    "# Do 10-fold cv for all C's in the range\n",
    "for a in A:\n",
    "    mlp = MLPClassifier(solver='lbfgs', max_iter=2000, activation='logistic', hidden_layer_sizes=[100], alpha=a)   #initiate function with new parameter alpha\n",
    "    a_list.append(cv_10f(mlp,0)[1])                 #save average 10-fold cv value for that alpha\n",
    "stepsize = (end-start)/steps                      #calculates the stepsize in the range\n",
    "opta = 0.01+(a_list.index(max(a_list)))*stepsize  #calculate optimal alpha\n",
    "\n",
    "#plot the accuracy values for differen C values\n",
    "plt.ylabel(\"Accuracy\")\n",
    "plt.xlabel(\"value of alpha\")\n",
    "plt.plot(A,a_list)\n",
    "\n",
    "#Report the highest accuracy and it's corresponding optimal value of C\n",
    "print(\"The highest accuracy rate:\",max(a_list),\"is achieved with alpha =\",opta)\n",
    "\n",
    "\n",
    "#OPTIMIZED FUNCTIONS\n",
    "#Neural networks with optimal alpha\n",
    "\n",
    "optimized_mlp = MLPClassifier(alpha=opta)              #optimized function for linear regression\n",
    "opt_mlpcv10 = cv_10f(optimized_mlp,0)                        #optimized 10-fold cross validation\n",
    "\n",
    "#CLASSIFICATION REPORT\n",
    "    #predict labels with the optimized function\n",
    "mlp_predict = optimized_mlp.fit(X_test_scaled_mnist, y_test_mnist).predict(X_test_scaled_mnist) #Logistic Regression with C = 0.0486666\n",
    "\n",
    "#CONFUSION MATRIX\n",
    "mlp_cm = confusion_matrix(y_test_mnist, mlp_predict)   #linear regression confusion matrix\n",
    "\n",
    "# BONUS Step 9: Look at your cross validation error \n",
    "# and discover how to tune your NN parameters with cross validation\n",
    "# Print the scores and also print the mean (accuracy) and std (95% confidence interval) of your scores\n",
    "print(\"Neural Networks: \\n default parameters:\\n   average cv:\",mlpcv10[1],\"\\n   standard deviation:\",mlpcv10[2],\"\\n function with optimized parameter alpha =\", opta,\":\\n   average cv:\",opt_mlpcv10[1],\"\\n   standard deviation:\",opt_mlpcv10[2])\n",
    "print(\"Neural Networks Report:\\n\",classification_report(y_test_mnist, mlp_predict, target_names=target_names))\n",
    "print(\"Neural Networks: \\n\",mlp_cm)"
   ]
  },
  {
   "cell_type": "markdown",
   "metadata": {},
   "source": [
    "##### Analysis\n",
    "The data doesn't converge which I am quite confident is because I should be testing the layers and size of the NN instead of alpha (or both). But I did not have the time to further look into this sadly."
   ]
  },
  {
   "cell_type": "code",
   "execution_count": null,
   "metadata": {
    "collapsed": true
   },
   "outputs": [],
   "source": []
  }
 ],
 "metadata": {
  "kernelspec": {
   "display_name": "Python 3",
   "language": "python",
   "name": "python3"
  },
  "language_info": {
   "codemirror_mode": {
    "name": "ipython",
    "version": 3
   },
   "file_extension": ".py",
   "mimetype": "text/x-python",
   "name": "python",
   "nbconvert_exporter": "python",
   "pygments_lexer": "ipython3",
   "version": "3.6.0"
  }
 },
 "nbformat": 4,
 "nbformat_minor": 2
}
