{
 "cells": [
  {
   "cell_type": "markdown",
   "metadata": {},
   "source": [
    "# Graded Lab Assignment 2: Evaluate classifiers (10 points)\n",
    " \n",
    "In this assignment you will optimize and compare the perfomance of a parametric (logistic regression) and non-parametric (k-nearest neighbours) classifier on the MNIST dataset.\n",
    "\n",
    "Publish your notebook (ipynb file) to your Machine Learning repository on Github ON TIME. We will check the last commit on the day of the deadline.  \n",
    "\n",
    "### Deadline Friday, November 17, 23:59.\n",
    "\n",
    "This notebook consists of three parts: design, implementation, results & analysis. \n",
    "We provide you with the design of the experiment and you have to implement it and analyse the results.\n",
    "\n",
    "### Criteria used for grading\n",
    "* Explain and analyse all results.\n",
    "* Make your notebook easy to read. When you are finished take your time to review it!\n",
    "* You do not want to repeat the same chunks of code multiply times. If your need to do so, write a function. \n",
    "* The implementation part of this assignment needs careful design before you start coding. You could start by writing pseudocode.\n",
    "* In this exercise the insights are important. Do not hide them somewhere in the comments in the implementation, but put them in the Analysis part\n",
    "* Take care that all the figures and tables are well labeled and numbered so that you can easily refer to them.\n",
    "* A plot should have a title and axes labels.\n",
    "* You may find that not everything is 100% specified in this assignment. That is correct! Like in real life you probably have to make some choices. Motivate your choices.\n"
   ]
  },
  {
   "cell_type": "markdown",
   "metadata": {},
   "source": [
    "### Grading points distribution\n",
    "\n",
    "* Implementation 5 points\n",
    "* Results and analysis 5 points"
   ]
  },
  {
   "cell_type": "markdown",
   "metadata": {},
   "source": [
    "## Design of the experiment"
   ]
  },
  {
   "cell_type": "markdown",
   "metadata": {},
   "source": [
    "You do not have to keep the order of this design and are allowed to alter it if you are confident.\n",
    "* Import all necessary modules. Try to use as much of the available functions as possible. \n",
    "* Use the provided train and test set of MNIST dataset.\n",
    "* Pre-process data eg. normalize/standardize, reformat, etc.           \n",
    "  Do whatever you think is necessary and motivate your choices.\n",
    "* (1) Train logistic regression and k-nn using default settings.\n",
    "* Use 10-fold cross validation for each classifier to optimize the performance for one parameter: \n",
    "    * consult the documentation on how cross validation works in sklearn (important functions:             cross_val_score(), GridSearchCV()).\n",
    "    * Optimize k for k-nn,\n",
    "    * for logistic regression focus on the regularization parameter,\n",
    "* (2) Train logistic regression and k-nn using optimized parameters.\n",
    "* Show performance on the cross-validation set for (1) and (2) for both classifiers: \n",
    "    * report the average cross validation error rates (alternatively, the average accuracies - it's up to you) and standard deviation,\n",
    "    * plot the average cross valildation errors (or accuracies) for different values of the parameter that you tuned. \n",
    "\n",
    "* Compare performance on the test set for two classifiers:\n",
    "    * produce the classification report for both classifiers, consisting of precision, recall, f1-score. Explain and analyse the results.\n",
    "    * print confusion matrix for both classifiers and compare whether they missclassify the same  classes. Explain and analyse the results.\n",
    "* Discuss your results.\n",
    "* BONUS: only continue with this part if you are confident that your implemention is complete \n",
    "    * tune more parameters of logistic regression\n",
    "    * add additional classifiers (NN, Naive Bayes, decision tree), \n",
    "    * analyse additional dataset (ex. Iris dataset)"
   ]
  },
  {
   "cell_type": "markdown",
   "metadata": {},
   "source": [
    "## Implementation of the experiment"
   ]
  },
  {
   "cell_type": "code",
   "execution_count": 135,
   "metadata": {
    "collapsed": false
   },
   "outputs": [
    {
     "name": "stdout",
     "output_type": "stream",
     "text": [
      "Populating the interactive namespace from numpy and matplotlib\n"
     ]
    }
   ],
   "source": [
    "%pylab inline\n",
    "\n",
    "from sklearn.datasets import load_digits\n",
    "from sklearn.datasets import load_iris               # Data used in BONUS exercise\n",
    "from sklearn.preprocessing import StandardScaler     # to normalize data\n",
    "from sklearn.model_selection import train_test_split # to split in train and test set\n",
    "from sklearn.model_selection import cross_val_score  # for 10-fold cross validation\n",
    "from sklearn.linear_model import LogisticRegression  # logistic regression classifier\n",
    "from sklearn.neighbors import KNeighborsClassifier   # knn classifier\n",
    "from sklearn.metrics import precision_score, recall_score, confusion_matrix, classification_report, f1_score, precision_recall_curve\n",
    "\n",
    "# mnist dataset.\n",
    "digits = load_digits()\n",
    "X = reshape(digits.images,(1797,64))                   #needed for cross validation                    \n",
    "X_train_mnist = reshape(digits.images[:1500],(1500,64))  \n",
    "X_test_mnist = reshape(digits.images[1500:],(297,64))\n",
    "y = digits.target                                      #needed for cross validation\n",
    "y_train_mnist = digits.target[:1500]\n",
    "y_test_mnist = digits.target[1500:]            \n",
    "\n",
    "# Pre-processing of mnist data\n",
    "scaler = StandardScaler()                                \n",
    "scaler.fit(X_train_mnist)\n",
    "scaler.fit(X_test_mnist)\n",
    "X_train_scaled_mnist = scaler.transform(X_train_mnist) #scaled training set\n",
    "X_test_scaled_mnist = scaler.transform(X_test_mnist)   #scaled test set"
   ]
  },
  {
   "cell_type": "code",
   "execution_count": 141,
   "metadata": {
    "collapsed": false
   },
   "outputs": [
    {
     "name": "stdout",
     "output_type": "stream",
     "text": [
      "Default value average of LR is: 0.931029834684\n",
      "Default value average of KNN is: 0.973948287255\n",
      "Default value average of KNN is: [ 0.92972973  0.98907104  0.97790055  0.97777778  0.96648045  0.98324022\n",
      "  0.98882682  0.98314607  0.97740113  0.96590909]\n"
     ]
    }
   ],
   "source": [
    "# Function for 10-fold cross validation for all models.\n",
    "def cv_10f(model):\n",
    "    model = model.fit(X_train_scaled_mnist, y_train_mnist) #fit model to scaled training data\n",
    "    score = cross_val_score(model, X, y, cv=10)            #calculate accuracy for each cross validation \n",
    "    average_score = average(score)                         #average of the 10 cross validation accuracies\n",
    "    st_dev = score.std(axis=0)                             #standard deviation of 10-fold cross validation\n",
    "    cv10 = [score, average_score, st_dev]                  #\n",
    "    return cv10\n",
    "\n",
    "lr = LogisticRegression()\n",
    "print(\"Default value average of LR is:\", cv_10f(lr)[1])\n",
    "knn = KNeighborsClassifier()\n",
    "print(\"Default value average of KNN is:\",cv_10f(knn)[1])\n",
    "print(\"Default value average of KNN is:\",cv_10f(knn)[0])"
   ]
  },
  {
   "cell_type": "code",
   "execution_count": 80,
   "metadata": {
    "collapsed": false
   },
   "outputs": [
    {
     "name": "stdout",
     "output_type": "stream",
     "text": [
      "The highest rate 0.97778921138 is achieved with k = 3\n"
     ]
    },
    {
     "data": {
      "image/png": "[encoded data removed]",
      "text/plain": [
       "<matplotlib.figure.Figure at 0x1121aba90>"
      ]
     },
     "metadata": {},
     "output_type": "display_data"
    }
   ],
   "source": [
    "k_list = []\n",
    "    \n",
    "# A Loop that checks l's between 0,01 and 0.3\n",
    "K = range(2,30)\n",
    "for i in K:\n",
    "    knn = KNeighborsClassifier(n_neighbors = i)\n",
    "    k_list.append(cv_10f(knn)[1])\n",
    "    \n",
    "# Make a plot for good visualization. The highest peak is the optimal average rate at that lambda\n",
    "plt.ylabel(\"Succes Rate\")\n",
    "plt.xlabel(\"value of C\")\n",
    "plt.plot(K,k_list)\n",
    "\n",
    "#Pring the optimal average rate and its associated lambda value. (The +2 is because we start at lambda = 2, not lambda = 0.)\n",
    "print(\"The highest rate\",max(k_list),\"is achieved with k =\",2+k_list.index(max(k_list)))"
   ]
  },
  {
   "cell_type": "code",
   "execution_count": 68,
   "metadata": {
    "collapsed": false
   },
   "outputs": [
    {
     "name": "stdout",
     "output_type": "stream",
     "text": [
      "The highest rate 0.941602537134 is achieved with lambda = 0.05\n"
     ]
    },
    {
     "data": {
      "image/png": "[encoded data removed]",
      "text/plain": [
       "<matplotlib.figure.Figure at 0x1127605f8>"
      ]
     },
     "metadata": {},
     "output_type": "display_data"
    }
   ],
   "source": [
    "l_list = []\n",
    "    \n",
    "# A Loop that checks l's between 0,01 and 0.3\n",
    "L = np.linspace(0.01, 0.3, num=30)\n",
    "for i in L:\n",
    "    lr = LogisticRegression(C = i)\n",
    "    l_list.append(cv_10f(lr)[1])\n",
    "    \n",
    "# Make a plot for good visualization. The highest peak is the optimal average rate at that lambda\n",
    "plt.ylabel(\"Succes Rate\")\n",
    "plt.xlabel(\"value of C\")\n",
    "plt.plot(L,l_list)\n",
    "\n",
    "#Pring the optimal average rate and its associated lambda value. (The +2 is because we start at lambda = 2, not lambda = 0.)\n",
    "print(\"The highest rate\",max(l_list),\"is achieved with lambda =\",0.01+(l_list.index(max(l_list)))*0.01)"
   ]
  },
  {
   "cell_type": "markdown",
   "metadata": {},
   "source": [
    "## Average cross validation values with optimized parameters"
   ]
  },
  {
   "cell_type": "code",
   "execution_count": 137,
   "metadata": {
    "collapsed": false
   },
   "outputs": [
    {
     "name": "stdout",
     "output_type": "stream",
     "text": [
      "Linear Regression \n",
      " average cv: 0.941043877916 \n",
      " standard deviation: 0.0292711561931\n",
      "3-Nearest Neighbors Classification \n",
      " average cv: 0.97778921138 \n",
      " standard deviation: 0.0159395747319\n"
     ]
    }
   ],
   "source": [
    "#(2) \n",
    "#Logistic Regression with lambda = 0.045\n",
    "optimized_lr = LogisticRegression(C = 0.045)\n",
    "lrcv10 = cv_10f(optimized_lr)\n",
    "print(\"Linear Regression \\n\",\"average cv:\",lrcv10[1],\"\\n standard deviation:\",lrcv10[2])\n",
    "\n",
    "# 3  Nearest Neighbors Classification\n",
    "optimized_knn = KNeighborsClassifier(n_neighbors = 3)\n",
    "knncv10 = cv_10f(optimized_knn)\n",
    "print(\"3-Nearest Neighbors Classification \\n\",\"average cv:\",knncv10[1],\"\\n standard deviation:\",knncv10[2])"
   ]
  },
  {
   "cell_type": "markdown",
   "metadata": {},
   "source": [
    "## Classification reports\n"
   ]
  },
  {
   "cell_type": "code",
   "execution_count": 138,
   "metadata": {
    "collapsed": false
   },
   "outputs": [
    {
     "name": "stdout",
     "output_type": "stream",
     "text": [
      "Linear Regression Classification Report:\n",
      "              precision    recall  f1-score   support\n",
      "\n",
      "          0       1.00      1.00      1.00        27\n",
      "          1       0.97      0.94      0.95        31\n",
      "          2       1.00      1.00      1.00        27\n",
      "          3       0.97      1.00      0.98        30\n",
      "          4       1.00      0.97      0.98        33\n",
      "          5       0.91      1.00      0.95        30\n",
      "          6       1.00      1.00      1.00        30\n",
      "          7       1.00      1.00      1.00        30\n",
      "          8       0.89      0.89      0.89        28\n",
      "          9       0.93      0.87      0.90        31\n",
      "\n",
      "avg / total       0.97      0.97      0.97       297\n",
      "\n",
      "K Nearest Neighbors Classification Report:\n",
      "              precision    recall  f1-score   support\n",
      "\n",
      "          0       1.00      1.00      1.00        27\n",
      "          1       0.86      1.00      0.93        31\n",
      "          2       1.00      1.00      1.00        27\n",
      "          3       0.97      1.00      0.98        30\n",
      "          4       1.00      1.00      1.00        33\n",
      "          5       1.00      0.90      0.95        30\n",
      "          6       1.00      0.97      0.98        30\n",
      "          7       1.00      1.00      1.00        30\n",
      "          8       1.00      0.89      0.94        28\n",
      "          9       0.94      0.97      0.95        31\n",
      "\n",
      "avg / total       0.98      0.97      0.97       297\n",
      "\n"
     ]
    }
   ],
   "source": [
    "target_names = [str(digit) for digit in range(0,10)]\n",
    "\n",
    "#logistic regression\n",
    "lry_predict = optimized_lr.fit(X_test_scaled_mnist, y_test_mnist).predict(X_test_scaled_mnist)\n",
    "print(\"Linear Regression Classification Report:\\n\",classification_report(y_test_mnist, lry_predict, target_names=target_names))\n",
    "\n",
    "#knn : k = 3\n",
    "knny_predict = optimized_knn.fit(X_test_scaled_mnist, y_test_mnist).predict(X_test_scaled_mnist)\n",
    "print(\"K Nearest Neighbors Classification Report:\\n\", classification_report(y_test_mnist, knny_predict, target_names=target_names))\n",
    "\n",
    "\n",
    "#Explain and analyse the results.\n",
    "\n"
   ]
  },
  {
   "cell_type": "code",
   "execution_count": null,
   "metadata": {
    "collapsed": true
   },
   "outputs": [],
   "source": []
  },
  {
   "cell_type": "code",
   "execution_count": 139,
   "metadata": {
    "collapsed": false
   },
   "outputs": [
    {
     "name": "stdout",
     "output_type": "stream",
     "text": [
      "Linear Regression \n",
      " [[27  0  0  0  0  0  0  0  0  0]\n",
      " [ 0 29  0  0  0  0  0  0  0  2]\n",
      " [ 0  0 27  0  0  0  0  0  0  0]\n",
      " [ 0  0  0 30  0  0  0  0  0  0]\n",
      " [ 0  0  0  0 32  0  0  0  1  0]\n",
      " [ 0  0  0  0  0 30  0  0  0  0]\n",
      " [ 0  0  0  0  0  0 30  0  0  0]\n",
      " [ 0  0  0  0  0  0  0 30  0  0]\n",
      " [ 0  1  0  0  0  2  0  0 25  0]\n",
      " [ 0  0  0  1  0  1  0  0  2 27]]\n",
      "K Nearest Neighbors \n",
      " [[27  0  0  0  0  0  0  0  0  0]\n",
      " [ 0 31  0  0  0  0  0  0  0  0]\n",
      " [ 0  0 27  0  0  0  0  0  0  0]\n",
      " [ 0  0  0 30  0  0  0  0  0  0]\n",
      " [ 0  0  0  0 33  0  0  0  0  0]\n",
      " [ 0  1  0  0  0 27  0  0  0  2]\n",
      " [ 0  1  0  0  0  0 29  0  0  0]\n",
      " [ 0  0  0  0  0  0  0 30  0  0]\n",
      " [ 0  3  0  0  0  0  0  0 25  0]\n",
      " [ 0  0  0  1  0  0  0  0  0 30]]\n"
     ]
    }
   ],
   "source": [
    "#confusion matrix\n",
    "lr_cm = confusion_matrix(y_test_mnist, lry_predict)\n",
    "knn_cm = confusion_matrix(y_test_mnist, knny_predict)\n",
    "print(\"Linear Regression \\n\",lr_cm)\n",
    "print(\"K Nearest Neighbors \\n\",knn_cm)\n",
    "#pcompare whether they missclassify the same classes. Explain and analyse the results.\n"
   ]
  },
  {
   "cell_type": "markdown",
   "metadata": {},
   "source": [
    "## Results and analysis of the experiment"
   ]
  },
  {
   "cell_type": "code",
   "execution_count": 117,
   "metadata": {
    "collapsed": false
   },
   "outputs": [
    {
     "name": "stdout",
     "output_type": "stream",
     "text": [
      "['0', '1', '2', '3', '4', '5', '6', '7', '8', '9']\n"
     ]
    }
   ],
   "source": []
  },
  {
   "cell_type": "code",
   "execution_count": null,
   "metadata": {
    "collapsed": false
   },
   "outputs": [],
   "source": []
  },
  {
   "cell_type": "code",
   "execution_count": null,
   "metadata": {
    "collapsed": false
   },
   "outputs": [],
   "source": []
  },
  {
   "cell_type": "code",
   "execution_count": null,
   "metadata": {
    "collapsed": true
   },
   "outputs": [],
   "source": []
  }
 ],
 "metadata": {
  "kernelspec": {
   "display_name": "Python 3",
   "language": "python",
   "name": "python3"
  },
  "language_info": {
   "codemirror_mode": {
    "name": "ipython",
    "version": 3
   },
   "file_extension": ".py",
   "mimetype": "text/x-python",
   "name": "python",
   "nbconvert_exporter": "python",
   "pygments_lexer": "ipython3",
   "version": "3.6.0"
  }
 },
 "nbformat": 4,
 "nbformat_minor": 2
}
