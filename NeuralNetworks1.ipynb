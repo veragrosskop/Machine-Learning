{
 "cells": [
  {
   "cell_type": "markdown",
   "metadata": {},
   "source": [
    "# AUC ML LabExercise - Neural Networks\n",
    "Ungraded exercise, deadline Friday 3 November, 23:59.\n"
   ]
  },
  {
   "cell_type": "code",
   "execution_count": 5,
   "metadata": {
    "collapsed": false
   },
   "outputs": [
    {
     "name": "stdout",
     "output_type": "stream",
     "text": [
      "Populating the interactive namespace from numpy and matplotlib\n"
     ]
    }
   ],
   "source": [
    "%pylab inline\n",
    "import numpy as np"
   ]
  },
  {
   "cell_type": "markdown",
   "metadata": {},
   "source": [
    "To use the Neural Networks package you first need to install the scikit-neuralnetwork. Install it through your Anaconda Navigator to avoid version mismatches. You can find the documentation here: \n",
    "http://scikit-learn.org/stable/modules/neural_networks_supervised.html"
   ]
  },
  {
   "cell_type": "code",
   "execution_count": 16,
   "metadata": {
    "collapsed": false
   },
   "outputs": [
    {
     "name": "stdout",
     "output_type": "stream",
     "text": [
      "Logistic Regression: 0.92\n",
      "Neural Network: 0.96\n"
     ]
    },
    {
     "name": "stderr",
     "output_type": "stream",
     "text": [
      "/Users/Vera/anaconda/lib/python3.6/site-packages/sklearn/neural_network/multilayer_perceptron.py:563: ConvergenceWarning: Stochastic Optimizer: Maximum iterations reached and the optimization hasn't converged yet.\n",
      "  % (), ConvergenceWarning)\n"
     ]
    }
   ],
   "source": [
    "#In this notebook we will work with the, commonly used, Iris dataset. \n",
    "#Please read the description of the dataset here:\n",
    "#http://scikit-learn.org/stable/auto_examples/datasets/plot_iris_dataset.html\n",
    "\n",
    "#First we import all the modules that you need for this exrecise\n",
    "from sklearn import datasets # to load the dataset\n",
    "from sklearn.preprocessing import StandardScaler # to normalize data (NN is very sensitive to this!)\n",
    "from sklearn.model_selection import train_test_split #to split in train and test set\n",
    "from sklearn.linear_model import LogisticRegression #logistic regression classifier\n",
    "from sklearn.neural_network import MLPClassifier # neural network classifier\n",
    "from sklearn.model_selection import cross_val_score #BONUS: to tune parameters using cross-validation\n",
    "\n",
    "#Step 1: Load Iris dataset.\n",
    "iris = datasets.load_iris()\n",
    "\n",
    "#Step 2: Save the features (data) and the labels (target) in separate variables.\n",
    "X = iris.data\n",
    "y = iris.target\n",
    "\n",
    "#Step 3: Normalize your data. Do it 'by hand' using a for-loop or use the StandardScaler() function.\n",
    "normx = StandardScaler()\n",
    "normx.fit(X)  #see documentation\n",
    "\n",
    "#Step 4: Split the dataset in train and test sets. \n",
    "#You can either do it 'by hand' or use the train_test_split() function.\n",
    "X_train, X_test, y_train, y_test = train_test_split(X, y, test_size=0.33)\n",
    "#automacally splits data for you\n",
    "\n",
    "#Step 5: Load logistic regression.\n",
    "# Study in the documentation all the arguments that the function takes as input and returns as output.\n",
    "# Choose some initial values to start with and experiment with them after you get to Step 8.\n",
    "h = LogisticRegression(tol=0.0000001)\n",
    "\n",
    "\n",
    "#Step 6: Load NN Classifer\n",
    "# Study in the documentation all the arguments that the function takes as input and returns as output.\n",
    "# Choose some initial values to start with and experiment with them after you get to Step 8.\n",
    "mlp = MLPClassifier()\n",
    "\n",
    "# Step 7: Training\n",
    "# Train both classifier, uising fit() function.\n",
    "htemp = h.fit(X_train,y_train)\n",
    "mlptemp = mlp.fit(X_train, y_train)\n",
    "\n",
    "# Step 8: Testing/Prediction\n",
    "# Print the score for both classifiers on the test set, using score() function.\n",
    "print(\"Logistic Regression:\",htemp.score(X_test, y_test))\n",
    "print(\"Neural Network:\", mlptemp.score(X_test, y_test))\n",
    "\n",
    "\n",
    "#doesn't converge? why? I tried changing the values of the tolerance and the size of the testing set...\n",
    "\n",
    "\n",
    "# BONUS Step 9: Look at your cross validation error \n",
    "# and discover how to tune your NN parameters with cross validation\n",
    "# Print the scores and also print the mean (accuracy) and std (95% confidence interval) of your scores\n"
   ]
  },
  {
   "cell_type": "code",
   "execution_count": null,
   "metadata": {
    "collapsed": false
   },
   "outputs": [],
   "source": [
    "\n"
   ]
  },
  {
   "cell_type": "code",
   "execution_count": null,
   "metadata": {
    "collapsed": true
   },
   "outputs": [],
   "source": []
  }
 ],
 "metadata": {
  "kernelspec": {
   "display_name": "Python 3",
   "language": "python",
   "name": "python3"
  },
  "language_info": {
   "codemirror_mode": {
    "name": "ipython",
    "version": 3
   },
   "file_extension": ".py",
   "mimetype": "text/x-python",
   "name": "python",
   "nbconvert_exporter": "python",
   "pygments_lexer": "ipython3",
   "version": "3.6.0"
  }
 },
 "nbformat": 4,
 "nbformat_minor": 2
}
