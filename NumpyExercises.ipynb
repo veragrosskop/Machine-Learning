{
 "cells": [
  {
   "cell_type": "code",
   "execution_count": 15,
   "metadata": {
    "collapsed": false
   },
   "outputs": [
    {
     "name": "stdout",
     "output_type": "stream",
     "text": [
      "[[11 22]\n",
      " [33 44]\n",
      " [55 66]]\n"
     ]
    }
   ],
   "source": [
    "import numpy as np\n",
    "#Array Calculations and Array Indexing\n",
    "A = np.array([[1,2], [3, 4], [5, 6]])\n",
    "B = np.array([[10,20], [30,40], [50,60]])\n",
    "#1\n",
    "print(A+B)"
   ]
  },
  {
   "cell_type": "code",
   "execution_count": 14,
   "metadata": {
    "collapsed": false
   },
   "outputs": [
    {
     "name": "stdout",
     "output_type": "stream",
     "text": [
      "[ 3.  4.]\n"
     ]
    }
   ],
   "source": [
    "#2\n",
    "print((np.sum(A,axis=0))/3)"
   ]
  },
  {
   "cell_type": "code",
   "execution_count": 21,
   "metadata": {
    "collapsed": false
   },
   "outputs": [
    {
     "name": "stdout",
     "output_type": "stream",
     "text": [
      "[ 1.63299316  1.63299316]\n",
      "[[ 4.  4.]\n",
      " [ 0.  0.]\n",
      " [ 4.  4.]]\n",
      "[ 1.63299316  1.63299316]\n"
     ]
    }
   ],
   "source": [
    "#3\n",
    "mean = ((np.sum(A,axis=0))/3)\n",
    "diff = (A-mean)**2\n",
    "std = np.sqrt((np.sum(diff, axis=0))/3)\n",
    "print(std)\n",
    "print(diff)\n",
    "print(np.std(A,axis=0))"
   ]
  },
  {
   "cell_type": "code",
   "execution_count": 56,
   "metadata": {
    "collapsed": false
   },
   "outputs": [
    {
     "name": "stdout",
     "output_type": "stream",
     "text": [
      "4032\n",
      "8128\n",
      "64.0\n"
     ]
    }
   ],
   "source": [
    "#4\n",
    "C = np.arange(128,)\n",
    "s = C[0::2]\n",
    "print(np.sum(s)) \n",
    "print(np.sum(C))"
   ]
  },
  {
   "cell_type": "code",
   "execution_count": 57,
   "metadata": {
    "collapsed": false
   },
   "outputs": [
    {
     "name": "stdout",
     "output_type": "stream",
     "text": [
      "(512,)\n",
      "[   0    1    2 ..., 1021 1022 1023]\n",
      "[21 22 23 24 25 26 27 28 29 30 31 32 33 34 35 36 37 38 39 40 41]\n",
      "(21,)\n"
     ]
    }
   ],
   "source": [
    "#5\n",
    "I = np.arange(1024) #integer array\n",
    "E = I[:512]\n",
    "print(E.shape)\n",
    "\n",
    "#6\n",
    "print(I)\n",
    "F = I[21:42] #starts counting at 0 so should go from 22 - 42 \n",
    "                #to contain value A[22] to A[42]\n",
    "print(F)\n",
    "print(F.shape)"
   ]
  },
  {
   "cell_type": "code",
   "execution_count": 69,
   "metadata": {
    "collapsed": false
   },
   "outputs": [
    {
     "name": "stdout",
     "output_type": "stream",
     "text": [
      "[ 0.14922913  0.87600544  0.98773964 ...,  0.18685037  0.29558065\n",
      "  0.09481232]\n",
      "[ 0.14922913  0.87600544  0.98773964 ...,  0.18685037  0.29558065\n",
      "  0.09481232]\n",
      "[ 0.34432114  0.02027027  0.41427262  0.32025156  0.84238226]\n",
      "[ 0.84238226  0.32025156  0.41427262  0.02027027  0.34432114]\n",
      "[ 0.29468979  0.13403755  0.26255951  0.13443255  0.38682327  0.388407\n",
      "  0.35021813  0.05195769  0.27667333  0.0432648   0.06351693  0.01693583\n",
      "  0.18695852  0.29161493  0.0744896   0.25584038  0.4924872   0.49819489\n",
      "  0.49624627  0.40238012  0.40217709  0.22212275  0.01140277  0.04111259\n",
      "  0.39875316  0.19964537  0.38454299  0.36351332  0.02697187  0.46002789\n",
      "  0.06953426  0.26974739  0.36683741  0.34501425  0.33274561  0.4352797\n",
      "  0.00351932  0.1383108   0.33719067  0.22278359  0.23273185  0.09601826\n",
      "  0.43892805  0.04045604  0.48913807  0.01541714  0.38987748  0.45400191\n",
      "  0.26659263  0.46867461  0.15477341  0.00276492  0.20709736  0.03786745\n",
      "  0.08126623  0.12381114  0.21608103  0.15647148  0.12173593  0.21186342\n",
      "  0.21187787  0.01670138  0.42143744  0.20464383  0.4244682 ]\n"
     ]
    }
   ],
   "source": [
    "#7 \n",
    "H = np.random.random(1024,)\n",
    "D = H[I]\n",
    "print(H)#to check if it's the same values\n",
    "print(D)"
   ]
  },
  {
   "cell_type": "code",
   "execution_count": 70,
   "metadata": {
    "collapsed": false
   },
   "outputs": [
    {
     "name": "stdout",
     "output_type": "stream",
     "text": [
      "[ 0.89744097  0.49717223  0.19437551  0.97970483  0.79116607]\n",
      "[ 0.79116607  0.97970483  0.19437551  0.49717223  0.89744097]\n",
      "[ 0.04580025  0.49376496  0.36684659  0.09799843  0.23336271  0.35681387\n",
      "  0.04370357  0.43029382  0.41070279  0.30015162  0.05060569  0.30514117\n",
      "  0.19531919  0.39627944  0.2563444   0.49533477  0.06998165  0.1272297\n",
      "  0.49820593  0.13935218  0.43829138  0.39790424  0.40291249  0.24114753\n",
      "  0.48836755  0.12752927  0.03324685  0.36966532  0.30091468  0.02398792\n",
      "  0.18809051  0.01399302  0.11068116  0.47936727  0.41035885  0.24553592\n",
      "  0.37164501  0.25676228  0.33892714  0.12807853  0.40585541  0.3906273\n",
      "  0.31487428  0.48804535  0.42183852  0.15206422  0.30802441  0.36009855\n",
      "  0.36308919  0.45099934  0.16449638  0.49228005  0.07433137  0.45228135\n",
      "  0.03217794  0.2054602   0.46086612  0.02283247  0.03101228  0.29053443]\n"
     ]
    }
   ],
   "source": [
    "#8\n",
    "N = 5\n",
    "J = np.random.random(N,)\n",
    "print(J)\n",
    "print(np.flipud(J))\n",
    "\n",
    "#9\n",
    "K = np.random.random(128,)\n",
    "bool_idx = (K <= 0.5)\n",
    "G = K[bool_idx]\n",
    "print(G)"
   ]
  },
  {
   "cell_type": "code",
   "execution_count": 82,
   "metadata": {
    "collapsed": false
   },
   "outputs": [
    {
     "name": "stdout",
     "output_type": "stream",
     "text": [
      "[[ 0.03916018  0.84806478  0.22140656]\n",
      " [ 0.69240369  0.31483446  0.75236682]\n",
      " [ 0.03306895  0.53472874  0.80518154]\n",
      " [ 0.68612409  0.64092987  0.26548494]\n",
      " [ 0.82313978  0.42356155  0.10990585]\n",
      " [ 0.07420412  0.08366612  0.61929441]]\n",
      "[ 0.68612409  0.64092987  0.26548494]\n",
      "[ 0.22140656  0.75236682  0.80518154  0.26548494  0.10990585  0.61929441]\n"
     ]
    }
   ],
   "source": [
    "#Views on Arrays\n",
    "#1\n",
    "X = np.random.random((6,3))\n",
    "print(X)\n",
    "i = 3\n",
    "print(X[i,:])\n",
    "#2\n",
    "j = 2\n",
    "print(X[:,j])"
   ]
  },
  {
   "cell_type": "code",
   "execution_count": 88,
   "metadata": {
    "collapsed": false
   },
   "outputs": [
    {
     "name": "stdout",
     "output_type": "stream",
     "text": [
      "[ 0.39135013  0.47429759  0.46227335]\n"
     ]
    }
   ],
   "source": [
    "#3 \n",
    "# appears to be a bit of a mistake in the assignment \n",
    "# if you wanna know the mean of all circumferences \n",
    "# you should take the j-th column not the i-th.\n",
    "# M[i] = mean X[:,j]\n",
    "M = np.mean(X, axis=0)\n",
    "print(M)"
   ]
  },
  {
   "cell_type": "code",
   "execution_count": 89,
   "metadata": {
    "collapsed": false
   },
   "outputs": [
    {
     "name": "stdout",
     "output_type": "stream",
     "text": [
      "[[-0.35218996  0.3737672  -0.24086679]\n",
      " [ 0.30105355 -0.15946313  0.29009347]\n",
      " [-0.35828118  0.06043116  0.34290819]\n",
      " [ 0.29477395  0.16663228 -0.19678842]\n",
      " [ 0.43178965 -0.05073604 -0.35236751]\n",
      " [-0.31714602 -0.39063147  0.15702106]]\n"
     ]
    }
   ],
   "source": [
    "#4\n",
    "X0 = X-M\n",
    "print(X0)"
   ]
  },
  {
   "cell_type": "code",
   "execution_count": 92,
   "metadata": {
    "collapsed": false
   },
   "outputs": [
    {
     "name": "stdout",
     "output_type": "stream",
     "text": [
      "[[ 0.03916018  0.84806478  0.22140656]\n",
      " [ 0.69240369  0.31483446  0.75236682]\n",
      " [ 0.03306895  0.53472874  0.80518154]\n",
      " [ 0.68612409  0.64092987  0.26548494]\n",
      " [ 0.82313978  0.42356155  0.10990585]\n",
      " [ 0.07420412  0.08366612  0.61929441]]\n",
      "[[ 0.69240369  0.31483446  0.75236682]\n",
      " [ 0.68612409  0.64092987  0.26548494]\n",
      " [ 0.82313978  0.42356155  0.10990585]]\n",
      "[ 0.73388918  0.45977529  0.3759192 ]\n"
     ]
    }
   ],
   "source": [
    "#5\n",
    "apple = np.array([1,3,4]) #i-rows which contain all apple data\n",
    "#banana = np.array([2,5,6])#i-rows which contain all banana data\n",
    "Xapple = X[apple,:]\n",
    "print(X)\n",
    "print(Xapple)\n",
    "Ma = np.mean(Xapple,axis=0)\n",
    "print(Ma) #mean of only apples"
   ]
  },
  {
   "cell_type": "code",
   "execution_count": 105,
   "metadata": {
    "collapsed": false
   },
   "outputs": [
    {
     "name": "stdout",
     "output_type": "stream",
     "text": [
      "[ 0.82313978  0.42356155  0.10990585]\n"
     ]
    }
   ],
   "source": [
    "#6\n",
    "maxmass = np.argmax(X[:,0],axis=0)\n",
    "print(X[maxmass,:])"
   ]
  },
  {
   "cell_type": "code",
   "execution_count": 107,
   "metadata": {
    "collapsed": false
   },
   "outputs": [
    {
     "name": "stdout",
     "output_type": "stream",
     "text": [
      "[[ 1.          0.03916018  0.84806478  0.22140656]\n",
      " [ 1.          0.69240369  0.31483446  0.75236682]\n",
      " [ 1.          0.03306895  0.53472874  0.80518154]\n",
      " [ 1.          0.68612409  0.64092987  0.26548494]\n",
      " [ 1.          0.82313978  0.42356155  0.10990585]\n",
      " [ 1.          0.07420412  0.08366612  0.61929441]]\n"
     ]
    }
   ],
   "source": [
    "#7\n",
    "X2 = np.insert(X, 0, 1, axis=1)\n",
    "print(X2)"
   ]
  },
  {
   "cell_type": "code",
   "execution_count": 121,
   "metadata": {
    "collapsed": false
   },
   "outputs": [
    {
     "name": "stdout",
     "output_type": "stream",
     "text": [
      "[0 1 2 3 4 5]\n",
      "[[0]\n",
      " [1]\n",
      " [2]\n",
      " [3]\n",
      " [4]\n",
      " [5]]\n",
      "[[0 1 2 3 4 5]]\n"
     ]
    }
   ],
   "source": [
    "#Tricks with Arrays\n",
    "#1\n",
    "K = np.arange(6,)\n",
    "L = K.reshape(6,1)\n",
    "print(K)\n",
    "print(L)\n",
    "#2 \n",
    "N = K.reshape(1,6)\n",
    "print(N)\n",
    "#3\n",
    "#For an array A of shape(M,N), A[i] is the i-th row of that array. \n",
    "#The values of i can be between 0 and M-1"
   ]
  },
  {
   "cell_type": "code",
   "execution_count": 133,
   "metadata": {
    "collapsed": false
   },
   "outputs": [
    {
     "name": "stdout",
     "output_type": "stream",
     "text": [
      "[[ 0  1  2  3  4]\n",
      " [ 5  6  7  8  9]\n",
      " [10 11 12 13 14]]\n",
      "[ 0.35406348  0.35247134  0.08550517  0.75870634  0.53832258]\n",
      "[[ -0.35406348   0.64752866   1.91449483   2.24129366   3.46167742]\n",
      " [  4.64593652   5.64752866   6.91449483   7.24129366   8.46167742]\n",
      " [  9.64593652  10.64752866  11.91449483  12.24129366  13.46167742]]\n"
     ]
    }
   ],
   "source": [
    "#4\n",
    "P = np.arange(15)\n",
    "A35 =P.reshape(3,5)\n",
    "v5 = np.random.random(5,)\n",
    "print(A35)\n",
    "print(v5)\n",
    "print(A35-v5)\n"
   ]
  },
  {
   "cell_type": "code",
   "execution_count": 135,
   "metadata": {
    "collapsed": false
   },
   "outputs": [
    {
     "name": "stdout",
     "output_type": "stream",
     "text": [
      "[ 0.85881793  0.1511718   0.56967914]\n",
      "[[ 0.85881793  0.85881793  0.85881793  0.85881793  0.85881793]\n",
      " [ 0.1511718   0.1511718   0.1511718   0.1511718   0.1511718 ]\n",
      " [ 0.56967914  0.56967914  0.56967914  0.56967914  0.56967914]]\n",
      "[[ -0.85881793   0.14118207   1.14118207   2.14118207   3.14118207]\n",
      " [  4.8488282    5.8488282    6.8488282    7.8488282    8.8488282 ]\n",
      " [  9.43032086  10.43032086  11.43032086  12.43032086  13.43032086]]\n"
     ]
    }
   ],
   "source": [
    "#5\n",
    "v3 = np.random.random(3,)\n",
    "v35 = np.tile(v3,(5,1)).T\n",
    "print(v3)\n",
    "print(v35)\n",
    "print(A35-v35)"
   ]
  },
  {
   "cell_type": "code",
   "execution_count": 136,
   "metadata": {
    "collapsed": false
   },
   "outputs": [
    {
     "name": "stdout",
     "output_type": "stream",
     "text": [
      "0.90863000283\n"
     ]
    }
   ],
   "source": [
    "#Linear Algebra\n",
    "#1\n",
    "v = np.random.random(3,)\n",
    "w = np.ones(3,)\n",
    "print(v.dot(w))"
   ]
  },
  {
   "cell_type": "code",
   "execution_count": 141,
   "metadata": {
    "collapsed": false
   },
   "outputs": [
    {
     "name": "stdout",
     "output_type": "stream",
     "text": [
      "[  9.  12.]\n",
      "(3,)\n"
     ]
    }
   ],
   "source": [
    "#2\n",
    "print((A.T).dot(w))\n",
    "#3 \n",
    "#the shape of v.T will stay (N,)\n",
    "print(np.shape(v.T))"
   ]
  },
  {
   "cell_type": "code",
   "execution_count": 143,
   "metadata": {
    "collapsed": false
   },
   "outputs": [
    {
     "name": "stdout",
     "output_type": "stream",
     "text": [
      "[ 4.16072901  5.74039788]\n",
      "[[ 4.16072901  5.74039788]]\n"
     ]
    }
   ],
   "source": [
    "#4\n",
    "v31 = v3.reshape(3,1)\n",
    "print(v3.dot(A))\n",
    "#print(v31.dot(A)) needs to be resized!\n",
    "print((v31.T).dot(A))\n"
   ]
  },
  {
   "cell_type": "code",
   "execution_count": null,
   "metadata": {
    "collapsed": true
   },
   "outputs": [],
   "source": []
  }
 ],
 "metadata": {
  "kernelspec": {
   "display_name": "Python 3",
   "language": "python",
   "name": "python3"
  },
  "language_info": {
   "codemirror_mode": {
    "name": "ipython",
    "version": 3
   },
   "file_extension": ".py",
   "mimetype": "text/x-python",
   "name": "python",
   "nbconvert_exporter": "python",
   "pygments_lexer": "ipython3",
   "version": "3.6.0"
  }
 },
 "nbformat": 4,
 "nbformat_minor": 2
}
